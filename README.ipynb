{
 "cells": [
  {
   "cell_type": "markdown",
   "id": "4dd1beb9-7aff-4519-86e2-4f658a9ae0c2",
   "metadata": {},
   "source": [
    "# SmartRadL"
   ]
  },
  {
   "cell_type": "markdown",
   "id": "6cca86af-2f1d-4f58-badc-c889b6433608",
   "metadata": {},
   "source": [
    "## Objective"
   ]
  },
  {
   "cell_type": "markdown",
   "id": "cb37eea8-713d-498c-b895-9635e844d883",
   "metadata": {},
   "source": [
    "<p style = \"font-family: Times New Roman\"> <p style=\"font-size:110%;\"> Nowadays many people prefer to choose their bike as a mode of commutation to their office, university, etc. Although there are numerous improvements done towards the pathway for the bikes, still bikers are facing difficulties commutating in their bikes due to the road surface conditions. Also, not knowing the road surface of their planned routes makes it difficult to choose the suitable bikes for their commutation. In this project, we tried to monitor the conditions of the road surface by using machine learning algorithms to classify different pavements of the road like asphalt or cobblestone as well as obstacles found on different pavements of the road like manhole/potholes, kerbs, and speed bumps using the data obtained from the Physics Toolbox Suite Pro App by mounting the mobile phone onto the bike.</p> </p>"
   ]
  },
  {
   "cell_type": "markdown",
   "id": "275cb6dc-6c91-4a0a-ac70-4cd8eb168526",
   "metadata": {},
   "source": [
    "## Hardware"
   ]
  },
  {
   "cell_type": "markdown",
   "id": "2f7672c6-8f4e-4337-8a0f-b0eeb6d84d21",
   "metadata": {},
   "source": [
    "<p style = \"font-family: Times New Roman\"> <p style=\"font-size:110%;\"> For collecting the data, we have chosen two riders biking a Scott Bosch e-bike, which is put in eco mode, in 7th gear, and with a tire pressure of 2 bar. Furthermore, we have used One Plus Nord, running on android 11, mounted on the stem of the handlebar of the bike, installed with the pro version of physics Toolbox Suite Pro App to record the three axes g-force, three-axis acceleration, three-axis gyroscope, azimuth, roll, pitch, GPS coordinates, and speed data. Finally, we have used GoPro Black 4 hero camera to record the video of the rides which is later used for labeling the features.</p> </p>"
   ]
  },
  {
   "cell_type": "markdown",
   "id": "ff831ecb-699b-4afc-874e-96d53d0e234a",
   "metadata": {},
   "source": [
    "## Feature Labels"
   ]
  },
  {
   "cell_type": "markdown",
   "id": "d2883f69-77bc-41cd-878e-728edf3ea88e",
   "metadata": {},
   "source": [
    "a)\tAsphalt Ride\n",
    "<img src=\"../images/python_logo.svg\" />\n",
    " \n",
    "b)\tStop\n",
    " \n",
    "c)\tCobblestone Ride\n",
    " \n",
    "d)\tAsphalt Manhole or Pothole\n",
    " \n",
    "e)\tAsphalt kerbs\n",
    " \n",
    "f)\tAsphalt bumps\n",
    " \n",
    "\n"
   ]
  }
 ],
 "metadata": {
  "kernelspec": {
   "display_name": "Python 3 (ipykernel)",
   "language": "python",
   "name": "python3"
  },
  "language_info": {
   "codemirror_mode": {
    "name": "ipython",
    "version": 3
   },
   "file_extension": ".py",
   "mimetype": "text/x-python",
   "name": "python",
   "nbconvert_exporter": "python",
   "pygments_lexer": "ipython3",
   "version": "3.9.7"
  }
 },
 "nbformat": 4,
 "nbformat_minor": 5
}
