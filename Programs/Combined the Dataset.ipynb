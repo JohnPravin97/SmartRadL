{
 "cells": [
  {
   "cell_type": "markdown",
   "id": "e82335e9",
   "metadata": {},
   "source": [
    "### Importing Library"
   ]
  },
  {
   "cell_type": "code",
   "execution_count": 1,
   "id": "92bbdf5f",
   "metadata": {},
   "outputs": [],
   "source": [
    "import os\n",
    "import pandas as pd\n",
    "from plotly.subplots import make_subplots\n",
    "import matplotlib.pyplot as plt\n",
    "import folium\n",
    "import ipywidgets as widgets\n",
    "import plotly.express as px\n",
    "import numpy as np\n",
    "import datetime\n",
    "import seaborn as sns\n",
    "\n",
    "%matplotlib inline"
   ]
  },
  {
   "cell_type": "markdown",
   "id": "8d326d9b",
   "metadata": {},
   "source": [
    "### First level Cleaning the Data"
   ]
  },
  {
   "cell_type": "code",
   "execution_count": 2,
   "id": "7188af77",
   "metadata": {},
   "outputs": [],
   "source": [
    "def data_exploration(df, path):\n",
    "    #### First, remove the unnamed cloumn\n",
    "    df.dropna(axis=1, how='all', inplace=True)\n",
    "    \n",
    "    #### Second, replace the column names to the way we like\n",
    "\n",
    "    df.rename(columns={'Speed (m/s)': 'Speed_(m/s)'}, inplace=True)\n",
    "    \n",
    "    #### Third, to remove the rows with zero values except speed\n",
    "\n",
    "    # to remove the entire row when a column has any zero value except speed\n",
    "    for col_name in df.columns:\n",
    "        if col_name != \"Speed_(m/s)\":\n",
    "            df.drop(df.index[df[col_name]==0], inplace=True)\n",
    "        else:\n",
    "            continue\n",
    "\n",
    "    # to change the index to start from zero. \n",
    "    df.set_index('time', inplace=True)\n",
    "    df.reset_index(inplace=True)\n",
    "    \n",
    "    \n",
    "    #### Fourth, add date to time column and change it from object to timeseries\n",
    "    # To add the date to the time column above\n",
    "    date = path.split(\"_\")[0]\n",
    "    time_col = []\n",
    "    for time_val in df['time']:\n",
    "        time_col.append(date+\" \"+time_val)\n",
    "    df['time'] = pd.to_datetime(time_col, format=\"%Y-%m-%d %H:%M:%S:%f\")\n",
    "    \n",
    "\n",
    "    #### Fifth, to convert the Speed from m/s to km/hr\n",
    "    df.insert((list(df.columns).index(\"Speed_(m/s)\")), \"Speed_(km/hr)\", ((df[\"Speed_(m/s)\"] * 18)/5))\n",
    "    df.drop(columns=[\"Speed_(m/s)\"], axis=1, inplace=True)\n",
    "\n",
    "    return df"
   ]
  },
  {
   "cell_type": "markdown",
   "id": "c443a25b",
   "metadata": {},
   "source": [
    "### Combining Vaihingen Dataset Into One"
   ]
  },
  {
   "cell_type": "code",
   "execution_count": 3,
   "id": "e97534ac",
   "metadata": {},
   "outputs": [],
   "source": [
    "os.chdir(r\"C:\\Users\\arockias\\Desktop\\SmartRadL\\SmartRadL\\Vaihingen_Dataset\")\n",
    "cwd = os.getcwd()\n",
    "def android_phone_data(cwd):\n",
    "    total_df = []\n",
    "    for folder_directory_1 in os.listdir():\n",
    "        cwd2 = cwd+\"\\\\\"+folder_directory_1\n",
    "        for folder_directory_2 in os.listdir(cwd2):\n",
    "                cwd3 = cwd2+\"\\\\\"+folder_directory_2\n",
    "                for folder_directory_3 in os.listdir(cwd3):\n",
    "                        cwd4 = cwd3+\"\\\\\"+folder_directory_3\n",
    "                        for folder_directory_4 in os.listdir(cwd4):\n",
    "                            cwd5 = cwd4+\"\\\\\"+folder_directory_4\n",
    "                            df = pd.read_csv(cwd5)\n",
    "                            final_df = data_exploration(df, folder_directory_4)\n",
    "                            total_df.append(final_df)\n",
    "    return total_df\n"
   ]
  },
  {
   "cell_type": "code",
   "execution_count": 4,
   "id": "17368eb9",
   "metadata": {},
   "outputs": [],
   "source": [
    "vaihingen_total_df = android_phone_data(cwd)"
   ]
  },
  {
   "cell_type": "code",
   "execution_count": 5,
   "id": "aab6254a",
   "metadata": {},
   "outputs": [],
   "source": [
    "vaihingen_final_df = pd.concat(vaihingen_total_df)"
   ]
  },
  {
   "cell_type": "code",
   "execution_count": 6,
   "id": "fcfce241",
   "metadata": {},
   "outputs": [
    {
     "name": "stdout",
     "output_type": "stream",
     "text": [
      "<class 'pandas.core.frame.DataFrame'>\n",
      "Int64Index: 242016 entries, 0 to 5482\n",
      "Data columns (total 20 columns):\n",
      " #   Column         Non-Null Count   Dtype         \n",
      "---  ------         --------------   -----         \n",
      " 0   time           242016 non-null  datetime64[ns]\n",
      " 1   gFx            242016 non-null  float64       \n",
      " 2   gFy            242016 non-null  float64       \n",
      " 3   gFz            242016 non-null  float64       \n",
      " 4   ax             242016 non-null  float64       \n",
      " 5   ay             242016 non-null  float64       \n",
      " 6   az             242016 non-null  float64       \n",
      " 7   wx             242016 non-null  float64       \n",
      " 8   wy             242016 non-null  float64       \n",
      " 9   wz             242016 non-null  float64       \n",
      " 10  Bx             242016 non-null  float64       \n",
      " 11  By             242016 non-null  float64       \n",
      " 12  Bz             242016 non-null  float64       \n",
      " 13  Azimuth        242016 non-null  float64       \n",
      " 14  Pitch          242016 non-null  float64       \n",
      " 15  Roll           242016 non-null  float64       \n",
      " 16  Latitude       242016 non-null  float64       \n",
      " 17  Longitude      242016 non-null  float64       \n",
      " 18  Speed_(km/hr)  242016 non-null  float64       \n",
      " 19  Labels         242016 non-null  object        \n",
      "dtypes: datetime64[ns](1), float64(18), object(1)\n",
      "memory usage: 38.8+ MB\n"
     ]
    }
   ],
   "source": [
    "vaihingen_final_df.info()"
   ]
  },
  {
   "cell_type": "code",
   "execution_count": 7,
   "id": "6de96452",
   "metadata": {},
   "outputs": [
    {
     "data": {
      "text/plain": [
       "Asphalt_Ride        117837\n",
       "Cobblestone_Ride     45489\n",
       "Stop                 41377\n",
       "Asphalt_Up           17794\n",
       "Asphalt_Down         13515\n",
       "Asphalt_Kurb          2402\n",
       "Asphalt_Bump          1860\n",
       "Asphalt_Manhole       1742\n",
       "Name: Labels, dtype: int64"
      ]
     },
     "execution_count": 7,
     "metadata": {},
     "output_type": "execute_result"
    }
   ],
   "source": [
    "vaihingen_final_df.Labels.value_counts()"
   ]
  },
  {
   "cell_type": "markdown",
   "id": "753bed5c",
   "metadata": {
    "tags": []
   },
   "source": [
    "#### To Save the complete vaihingen dataset"
   ]
  },
  {
   "cell_type": "code",
   "execution_count": 8,
   "id": "9ec838f1",
   "metadata": {},
   "outputs": [],
   "source": [
    "vaihingen_final_df.to_csv(r\"C:\\Users\\arockias\\Desktop\\SmartRadL\\SmartRadL\\Combined_Dataset\\Complete_Vaihingen_Dataset.csv\", index=False)"
   ]
  },
  {
   "cell_type": "markdown",
   "id": "d3cd384c",
   "metadata": {},
   "source": [
    "### Combining Stuttgart City Center Dataset Into One"
   ]
  },
  {
   "cell_type": "code",
   "execution_count": 9,
   "id": "1d549214",
   "metadata": {},
   "outputs": [],
   "source": [
    "os.chdir(r\"C:\\Users\\arockias\\Desktop\\SmartRadL\\SmartRadL\\Stuttgart_CityCenter_Dataset\")\n",
    "cwd = os.getcwd()\n",
    "def android_phone_data(cwd):\n",
    "    total_df = []\n",
    "    for folder_directory_1 in os.listdir():\n",
    "        cwd2 = cwd+\"\\\\\"+folder_directory_1\n",
    "        for folder_directory_2 in os.listdir(cwd2):\n",
    "                cwd3 = cwd2+\"\\\\\"+folder_directory_2\n",
    "                for folder_directory_3 in os.listdir(cwd3):\n",
    "                        cwd4 = cwd3+\"\\\\\"+folder_directory_3\n",
    "                        for folder_directory_4 in os.listdir(cwd4):\n",
    "                            cwd5 = cwd4+\"\\\\\"+folder_directory_4\n",
    "                            df = pd.read_csv(cwd5)\n",
    "                            final_df = data_exploration(df, folder_directory_4)\n",
    "                            total_df.append(final_df)\n",
    "    return total_df\n"
   ]
  },
  {
   "cell_type": "code",
   "execution_count": 10,
   "id": "c3ddf5f1",
   "metadata": {},
   "outputs": [],
   "source": [
    "stuttgart_total_df = android_phone_data(cwd)"
   ]
  },
  {
   "cell_type": "code",
   "execution_count": 11,
   "id": "2d94cc0a",
   "metadata": {},
   "outputs": [],
   "source": [
    "stuttgart_final_df = pd.concat(stuttgart_total_df)"
   ]
  },
  {
   "cell_type": "code",
   "execution_count": 12,
   "id": "6a3bc3f4",
   "metadata": {},
   "outputs": [
    {
     "name": "stdout",
     "output_type": "stream",
     "text": [
      "<class 'pandas.core.frame.DataFrame'>\n",
      "Int64Index: 151551 entries, 0 to 4248\n",
      "Data columns (total 20 columns):\n",
      " #   Column         Non-Null Count   Dtype         \n",
      "---  ------         --------------   -----         \n",
      " 0   time           151551 non-null  datetime64[ns]\n",
      " 1   gFx            151551 non-null  float64       \n",
      " 2   gFy            151551 non-null  float64       \n",
      " 3   gFz            151551 non-null  float64       \n",
      " 4   ax             151551 non-null  float64       \n",
      " 5   ay             151551 non-null  float64       \n",
      " 6   az             151551 non-null  float64       \n",
      " 7   wx             151551 non-null  float64       \n",
      " 8   wy             151551 non-null  float64       \n",
      " 9   wz             151551 non-null  float64       \n",
      " 10  Bx             151551 non-null  float64       \n",
      " 11  By             151551 non-null  float64       \n",
      " 12  Bz             151551 non-null  float64       \n",
      " 13  Azimuth        151551 non-null  float64       \n",
      " 14  Pitch          151551 non-null  float64       \n",
      " 15  Roll           151551 non-null  float64       \n",
      " 16  Latitude       151551 non-null  float64       \n",
      " 17  Longitude      151551 non-null  float64       \n",
      " 18  Speed_(km/hr)  151551 non-null  float64       \n",
      " 19  Labels         151551 non-null  object        \n",
      "dtypes: datetime64[ns](1), float64(18), object(1)\n",
      "memory usage: 24.3+ MB\n"
     ]
    }
   ],
   "source": [
    "stuttgart_final_df.info()"
   ]
  },
  {
   "cell_type": "code",
   "execution_count": 13,
   "id": "837b28ad",
   "metadata": {},
   "outputs": [
    {
     "data": {
      "text/plain": [
       "Asphalt_Ride        107023\n",
       "Stop                 29678\n",
       "Asphalt_Manhole      12150\n",
       "Cobblestone_Ride      2048\n",
       "Asphalt_Kurb           652\n",
       "Name: Labels, dtype: int64"
      ]
     },
     "execution_count": 13,
     "metadata": {},
     "output_type": "execute_result"
    }
   ],
   "source": [
    "stuttgart_final_df.Labels.value_counts()"
   ]
  },
  {
   "cell_type": "markdown",
   "id": "08597211",
   "metadata": {
    "tags": []
   },
   "source": [
    "#### To Save the complete vaihingen dataset"
   ]
  },
  {
   "cell_type": "code",
   "execution_count": 14,
   "id": "47350fa8",
   "metadata": {},
   "outputs": [],
   "source": [
    "stuttgart_final_df.to_csv(r\"C:\\Users\\arockias\\Desktop\\SmartRadL\\SmartRadL\\Combined_Dataset\\Complete_Stuttgart_CityCenter_Dataset.csv\", index=False)"
   ]
  },
  {
   "cell_type": "markdown",
   "id": "73516a4f",
   "metadata": {},
   "source": [
    "### Merging the vaihingen dataset and stuttgart dataset"
   ]
  },
  {
   "cell_type": "code",
   "execution_count": 15,
   "id": "6cb53cfe",
   "metadata": {},
   "outputs": [],
   "source": [
    "merge_df = pd.concat([stuttgart_final_df, vaihingen_final_df])"
   ]
  },
  {
   "cell_type": "code",
   "execution_count": 18,
   "id": "4614720b",
   "metadata": {},
   "outputs": [],
   "source": [
    "merge_df.to_csv(r\"C:\\Users\\arockias\\Desktop\\SmartRadL\\SmartRadL\\Combined_Dataset\\Overall_Dataset.csv\", index=False)"
   ]
  },
  {
   "cell_type": "code",
   "execution_count": 17,
   "id": "11bc00cb",
   "metadata": {},
   "outputs": [
    {
     "name": "stdout",
     "output_type": "stream",
     "text": [
      "<class 'pandas.core.frame.DataFrame'>\n",
      "Int64Index: 393567 entries, 0 to 5482\n",
      "Data columns (total 20 columns):\n",
      " #   Column         Non-Null Count   Dtype         \n",
      "---  ------         --------------   -----         \n",
      " 0   time           393567 non-null  datetime64[ns]\n",
      " 1   gFx            393567 non-null  float64       \n",
      " 2   gFy            393567 non-null  float64       \n",
      " 3   gFz            393567 non-null  float64       \n",
      " 4   ax             393567 non-null  float64       \n",
      " 5   ay             393567 non-null  float64       \n",
      " 6   az             393567 non-null  float64       \n",
      " 7   wx             393567 non-null  float64       \n",
      " 8   wy             393567 non-null  float64       \n",
      " 9   wz             393567 non-null  float64       \n",
      " 10  Bx             393567 non-null  float64       \n",
      " 11  By             393567 non-null  float64       \n",
      " 12  Bz             393567 non-null  float64       \n",
      " 13  Azimuth        393567 non-null  float64       \n",
      " 14  Pitch          393567 non-null  float64       \n",
      " 15  Roll           393567 non-null  float64       \n",
      " 16  Latitude       393567 non-null  float64       \n",
      " 17  Longitude      393567 non-null  float64       \n",
      " 18  Speed_(km/hr)  393567 non-null  float64       \n",
      " 19  Labels         393567 non-null  object        \n",
      "dtypes: datetime64[ns](1), float64(18), object(1)\n",
      "memory usage: 63.1+ MB\n"
     ]
    }
   ],
   "source": [
    "merge_df.info()"
   ]
  }
 ],
 "metadata": {
  "kernelspec": {
   "display_name": "Python 3 (ipykernel)",
   "language": "python",
   "name": "python3"
  },
  "language_info": {
   "codemirror_mode": {
    "name": "ipython",
    "version": 3
   },
   "file_extension": ".py",
   "mimetype": "text/x-python",
   "name": "python",
   "nbconvert_exporter": "python",
   "pygments_lexer": "ipython3",
   "version": "3.9.7"
  }
 },
 "nbformat": 4,
 "nbformat_minor": 5
}
