{
 "cells": [
  {
   "cell_type": "code",
   "execution_count": 20,
   "metadata": {
    "executionInfo": {
     "elapsed": 334,
     "status": "ok",
     "timestamp": 1655808635457,
     "user": {
      "displayName": "John Pravin",
      "userId": "05232052419596426302"
     },
     "user_tz": -120
    },
    "id": "VwbIwPYhYQdr"
   },
   "outputs": [],
   "source": [
    "import tensorflow.keras as keras\n",
    "from sklearn.model_selection import cross_val_score\n",
    "from sklearn.preprocessing import LabelEncoder, OneHotEncoder\n",
    "from sklearn.pipeline import Pipeline\n",
    "from sklearn.model_selection import train_test_split\n",
    "from sklearn.metrics import confusion_matrix, classification_report, f1_score\n",
    "from sklearn.utils import shuffle, class_weight\n",
    "import pandas as pd\n",
    "import numpy as np\n",
    "import tensorflow as tf"
   ]
  },
  {
   "cell_type": "code",
   "execution_count": 21,
   "metadata": {
    "colab": {
     "base_uri": "https://localhost:8080/",
     "height": 328
    },
    "executionInfo": {
     "elapsed": 6,
     "status": "error",
     "timestamp": 1655808635772,
     "user": {
      "displayName": "John Pravin",
      "userId": "05232052419596426302"
     },
     "user_tz": -120
    },
    "id": "JELAe2zx3pWn",
    "outputId": "e8287ef8-8a8b-4cf4-976c-7de40bf76f38"
   },
   "outputs": [],
   "source": [
    "path = r\"Overall_DA_Dataset_with_APR.csv\"\n",
    "df = pd.read_csv(path)"
   ]
  },
  {
   "cell_type": "code",
   "execution_count": 22,
   "metadata": {
    "id": "sv0_ZPiQ3pWo"
   },
   "outputs": [
    {
     "name": "stdout",
     "output_type": "stream",
     "text": [
      "<class 'pandas.core.frame.DataFrame'>\n",
      "RangeIndex: 78712 entries, 0 to 78711\n",
      "Columns: 105 entries, x_mean to Labels\n",
      "dtypes: float64(86), int64(18), object(1)\n",
      "memory usage: 63.1+ MB\n"
     ]
    }
   ],
   "source": [
    "df.info()"
   ]
  },
  {
   "cell_type": "code",
   "execution_count": 23,
   "metadata": {
    "id": "JAxg8cuH3pWq"
   },
   "outputs": [
    {
     "data": {
      "text/plain": [
       "Asphalt_Ride        51190\n",
       "Stop                14193\n",
       "Cobblestone_Ride     9508\n",
       "Asphalt_Manhole      2824\n",
       "Asphalt_Kurb          621\n",
       "Asphalt_Bump          376\n",
       "Name: Labels, dtype: int64"
      ]
     },
     "execution_count": 23,
     "metadata": {},
     "output_type": "execute_result"
    }
   ],
   "source": [
    "df.Labels.value_counts()"
   ]
  },
  {
   "cell_type": "code",
   "execution_count": 24,
   "metadata": {
    "id": "OvlxEPNP3pWq"
   },
   "outputs": [],
   "source": [
    "class_weight = {0: 1.,\n",
    "                1: 3.,\n",
    "                2: 5.,\n",
    "               3: 22.,\n",
    "               4: 80.,\n",
    "               5: 130.,\n",
    "               }"
   ]
  },
  {
   "cell_type": "code",
   "execution_count": 25,
   "metadata": {
    "id": "35itdwSe3pWr"
   },
   "outputs": [],
   "source": [
    "N_train_samples = 70000\n",
    "N_test_samples = 8712\n",
    "N_samples = N_train_samples + N_test_samples\n",
    "N_epochs = 100\n",
    "batch_size = 64\n",
    "learning_rate = 0.01"
   ]
  },
  {
   "cell_type": "code",
   "execution_count": 26,
   "metadata": {
    "id": "ptTKcMWK3pWs"
   },
   "outputs": [],
   "source": [
    "X = df.drop('Labels', axis=1)\n",
    "y = df[\"Labels\"]"
   ]
  },
  {
   "cell_type": "code",
   "execution_count": 27,
   "metadata": {
    "id": "aju_PJsd3pWs"
   },
   "outputs": [],
   "source": [
    "y = np.expand_dims(y, axis=-1)\n",
    "\n",
    "# encode class values as integers\n",
    "encoder = OneHotEncoder()\n",
    "encoder.fit(y)\n",
    "encoded_y = encoder.transform(y)\n",
    "encoded_y = encoded_y.todense()"
   ]
  },
  {
   "cell_type": "code",
   "execution_count": 28,
   "metadata": {
    "id": "9C86d-203pWt"
   },
   "outputs": [],
   "source": [
    "shuffled_x, shuffled_y= shuffle(X, encoded_y)"
   ]
  },
  {
   "cell_type": "code",
   "execution_count": 29,
   "metadata": {
    "id": "NB0BUsAx3pWu",
    "scrolled": true
   },
   "outputs": [],
   "source": [
    "x_train = shuffled_x[0:N_train_samples]\n",
    "y_train = shuffled_y[0:N_train_samples]\n",
    "\n",
    "x_test = shuffled_x[N_train_samples: N_train_samples+N_test_samples]\n",
    "y_test = shuffled_y[N_train_samples: N_train_samples+N_test_samples]"
   ]
  },
  {
   "cell_type": "code",
   "execution_count": 30,
   "metadata": {
    "id": "rKB8qY3u3pWu"
   },
   "outputs": [],
   "source": [
    "train_ds = tf.data.Dataset.from_tensor_slices((x_train, y_train)).batch(batch_size, drop_remainder=True).shuffle(1000).repeat()"
   ]
  },
  {
   "cell_type": "code",
   "execution_count": 31,
   "metadata": {
    "id": "EMkEio8R6s6g"
   },
   "outputs": [],
   "source": [
    "#x_train, x_test, y_train, y_test = train_test_split(X.values, encoded_y, test_size=0.1)"
   ]
  },
  {
   "cell_type": "code",
   "execution_count": 32,
   "metadata": {
    "id": "eAngPwiT5xNm"
   },
   "outputs": [],
   "source": [
    "model = keras.models.Sequential()\n",
    "model.add(keras.layers.Dense(101, activation='relu'))\n",
    "model.add(keras.layers.Dense(64, activation='relu'))\n",
    "model.add(keras.layers.Dropout(0.2))\n",
    "model.add(keras.layers.Dense(64, activation='relu'))\n",
    "model.add(keras.layers.Dropout(0.25))\n",
    "model.add(keras.layers.Dense(32, activation='relu'))\n",
    "model.add(keras.layers.Dropout(0.25))\n",
    "model.add(keras.layers.Dense(6, activation='softmax'))"
   ]
  },
  {
   "cell_type": "code",
   "execution_count": 33,
   "metadata": {
    "id": "KYHoirX9YVsL",
    "outputId": "f774cca5-253e-4fd7-ea4f-993f033d235b",
    "scrolled": true
   },
   "outputs": [
    {
     "name": "stdout",
     "output_type": "stream",
     "text": [
      "Epoch 1/100\n",
      "1229/1229 [==============================] - 7s 4ms/step - loss: 25.8852 - accuracy: 0.7397\n",
      "Epoch 2/100\n",
      "1229/1229 [==============================] - 5s 4ms/step - loss: 11.5904 - accuracy: 0.8370\n",
      "Epoch 3/100\n",
      "1229/1229 [==============================] - 5s 4ms/step - loss: 8.9809 - accuracy: 0.8646\n",
      "Epoch 4/100\n",
      "1229/1229 [==============================] - 6s 5ms/step - loss: 7.7668 - accuracy: 0.8787\n",
      "Epoch 5/100\n",
      "1229/1229 [==============================] - 5s 4ms/step - loss: 7.1732 - accuracy: 0.8826\n",
      "Epoch 6/100\n",
      "1229/1229 [==============================] - 5s 4ms/step - loss: 6.9139 - accuracy: 0.8866\n",
      "Epoch 7/100\n",
      "1229/1229 [==============================] - 5s 4ms/step - loss: 6.6420 - accuracy: 0.8902\n",
      "Epoch 8/100\n",
      "1229/1229 [==============================] - 4s 3ms/step - loss: 6.3833 - accuracy: 0.8932\n",
      "Epoch 9/100\n",
      "1229/1229 [==============================] - 4s 3ms/step - loss: 5.9333 - accuracy: 0.8969\n",
      "Epoch 10/100\n",
      "1229/1229 [==============================] - 5s 4ms/step - loss: 5.8435 - accuracy: 0.8983\n",
      "Epoch 11/100\n",
      "1229/1229 [==============================] - 5s 4ms/step - loss: 5.6077 - accuracy: 0.9005\n",
      "Epoch 12/100\n",
      "1229/1229 [==============================] - 6s 5ms/step - loss: 5.4413 - accuracy: 0.9011\n",
      "Epoch 13/100\n",
      "1229/1229 [==============================] - 5s 4ms/step - loss: 5.3733 - accuracy: 0.9029\n",
      "Epoch 14/100\n",
      "1229/1229 [==============================] - 4s 4ms/step - loss: 4.9913 - accuracy: 0.9062\n",
      "Epoch 15/100\n",
      "1229/1229 [==============================] - 4s 4ms/step - loss: 4.9197 - accuracy: 0.9073\n",
      "Epoch 16/100\n",
      "1229/1229 [==============================] - 4s 4ms/step - loss: 4.8777 - accuracy: 0.9079\n",
      "Epoch 17/100\n",
      "1229/1229 [==============================] - 5s 4ms/step - loss: 4.8385 - accuracy: 0.9074\n",
      "Epoch 18/100\n",
      "1229/1229 [==============================] - 5s 4ms/step - loss: 4.6093 - accuracy: 0.9113\n",
      "Epoch 19/100\n",
      "1229/1229 [==============================] - 5s 4ms/step - loss: 5.0874 - accuracy: 0.9073\n",
      "Epoch 20/100\n",
      "1229/1229 [==============================] - 4s 3ms/step - loss: 4.5764 - accuracy: 0.9104\n",
      "Epoch 21/100\n",
      "1229/1229 [==============================] - 4s 3ms/step - loss: 4.6039 - accuracy: 0.9116\n",
      "Epoch 22/100\n",
      "1229/1229 [==============================] - 4s 3ms/step - loss: 4.6001 - accuracy: 0.9117\n",
      "Epoch 23/100\n",
      "1229/1229 [==============================] - 4s 3ms/step - loss: 4.5192 - accuracy: 0.9124\n",
      "Epoch 24/100\n",
      "1229/1229 [==============================] - 5s 4ms/step - loss: 4.3155 - accuracy: 0.9132\n",
      "Epoch 25/100\n",
      "1229/1229 [==============================] - 5s 4ms/step - loss: 4.3496 - accuracy: 0.9134\n",
      "Epoch 26/100\n",
      "1229/1229 [==============================] - 5s 4ms/step - loss: 4.3802 - accuracy: 0.9134\n",
      "Epoch 27/100\n",
      "1229/1229 [==============================] - 5s 4ms/step - loss: 4.1761 - accuracy: 0.9154\n",
      "Epoch 28/100\n",
      "1229/1229 [==============================] - 4s 4ms/step - loss: 4.3019 - accuracy: 0.9152\n",
      "Epoch 29/100\n",
      "1229/1229 [==============================] - 5s 4ms/step - loss: 4.3467 - accuracy: 0.9137\n",
      "Epoch 30/100\n",
      "1229/1229 [==============================] - 5s 4ms/step - loss: 4.1644 - accuracy: 0.9159\n",
      "Epoch 31/100\n",
      "1229/1229 [==============================] - 6s 5ms/step - loss: 4.2523 - accuracy: 0.9144\n",
      "Epoch 32/100\n",
      "1229/1229 [==============================] - 7s 5ms/step - loss: 4.1614 - accuracy: 0.9170\n",
      "Epoch 33/100\n",
      "1229/1229 [==============================] - 5s 4ms/step - loss: 4.0359 - accuracy: 0.9171\n",
      "Epoch 34/100\n",
      "1229/1229 [==============================] - 5s 4ms/step - loss: 3.9842 - accuracy: 0.9185\n",
      "Epoch 35/100\n",
      "1229/1229 [==============================] - 4s 4ms/step - loss: 4.0959 - accuracy: 0.9177\n",
      "Epoch 36/100\n",
      "1229/1229 [==============================] - 5s 4ms/step - loss: 4.0894 - accuracy: 0.9167\n",
      "Epoch 37/100\n",
      "1229/1229 [==============================] - 5s 4ms/step - loss: 3.9369 - accuracy: 0.9195\n",
      "Epoch 38/100\n",
      "1229/1229 [==============================] - 6s 5ms/step - loss: 4.0068 - accuracy: 0.9188\n",
      "Epoch 39/100\n",
      "1229/1229 [==============================] - 5s 4ms/step - loss: 4.1486 - accuracy: 0.9175\n",
      "Epoch 40/100\n",
      "1229/1229 [==============================] - 5s 4ms/step - loss: 3.9124 - accuracy: 0.9188\n",
      "Epoch 41/100\n",
      "1229/1229 [==============================] - 4s 4ms/step - loss: 3.7529 - accuracy: 0.9201\n",
      "Epoch 42/100\n",
      "1229/1229 [==============================] - 4s 4ms/step - loss: 3.9495 - accuracy: 0.9178\n",
      "Epoch 43/100\n",
      "1229/1229 [==============================] - 5s 4ms/step - loss: 3.8282 - accuracy: 0.9209\n",
      "Epoch 44/100\n",
      "1229/1229 [==============================] - 5s 4ms/step - loss: 3.8466 - accuracy: 0.9190\n",
      "Epoch 45/100\n",
      "1229/1229 [==============================] - 5s 4ms/step - loss: 3.7298 - accuracy: 0.9216\n",
      "Epoch 46/100\n",
      "1229/1229 [==============================] - 5s 4ms/step - loss: 3.8044 - accuracy: 0.9204\n",
      "Epoch 47/100\n",
      "1229/1229 [==============================] - 4s 4ms/step - loss: 3.7947 - accuracy: 0.9218\n",
      "Epoch 48/100\n",
      "1229/1229 [==============================] - 5s 4ms/step - loss: 3.7061 - accuracy: 0.9221\n",
      "Epoch 49/100\n",
      "1229/1229 [==============================] - 6s 5ms/step - loss: 3.8151 - accuracy: 0.9221\n",
      "Epoch 50/100\n",
      "1229/1229 [==============================] - 5s 4ms/step - loss: 3.7936 - accuracy: 0.9217\n",
      "Epoch 51/100\n",
      "1229/1229 [==============================] - 5s 4ms/step - loss: 3.6896 - accuracy: 0.9218\n",
      "Epoch 52/100\n",
      "1229/1229 [==============================] - 5s 4ms/step - loss: 3.6634 - accuracy: 0.9229\n",
      "Epoch 53/100\n",
      "1229/1229 [==============================] - 5s 4ms/step - loss: 3.4811 - accuracy: 0.9241\n",
      "Epoch 54/100\n",
      "1229/1229 [==============================] - 5s 4ms/step - loss: 3.6315 - accuracy: 0.9229\n",
      "Epoch 55/100\n",
      "1229/1229 [==============================] - 5s 4ms/step - loss: 4.0230 - accuracy: 0.9233\n",
      "Epoch 56/100\n",
      "1229/1229 [==============================] - 4s 3ms/step - loss: 3.5528 - accuracy: 0.9246\n",
      "Epoch 57/100\n",
      "1229/1229 [==============================] - 4s 4ms/step - loss: 3.6137 - accuracy: 0.9227\n",
      "Epoch 58/100\n",
      "1229/1229 [==============================] - 5s 4ms/step - loss: 3.4845 - accuracy: 0.9250\n",
      "Epoch 59/100\n",
      "1229/1229 [==============================] - 5s 4ms/step - loss: 3.6381 - accuracy: 0.9233\n",
      "Epoch 60/100\n",
      "1229/1229 [==============================] - 4s 4ms/step - loss: 3.7664 - accuracy: 0.9218\n",
      "Epoch 61/100\n",
      "1229/1229 [==============================] - 5s 4ms/step - loss: 3.6211 - accuracy: 0.9224\n",
      "Epoch 62/100\n",
      "1229/1229 [==============================] - 5s 4ms/step - loss: 3.4964 - accuracy: 0.9250\n",
      "Epoch 63/100\n",
      "1229/1229 [==============================] - 6s 5ms/step - loss: 3.5725 - accuracy: 0.9244\n",
      "Epoch 64/100\n",
      "1229/1229 [==============================] - 5s 4ms/step - loss: 3.5765 - accuracy: 0.9240\n",
      "Epoch 65/100\n",
      "1229/1229 [==============================] - 4s 4ms/step - loss: 3.4757 - accuracy: 0.9259\n",
      "Epoch 66/100\n",
      "1229/1229 [==============================] - 5s 4ms/step - loss: 3.4943 - accuracy: 0.9249\n",
      "Epoch 67/100\n",
      "1229/1229 [==============================] - 6s 5ms/step - loss: 3.6485 - accuracy: 0.9224\n",
      "Epoch 68/100\n",
      "1229/1229 [==============================] - 5s 4ms/step - loss: 3.3622 - accuracy: 0.9267\n",
      "Epoch 69/100\n",
      "1229/1229 [==============================] - 5s 4ms/step - loss: 3.6096 - accuracy: 0.9238\n",
      "Epoch 70/100\n",
      "1229/1229 [==============================] - 5s 4ms/step - loss: 3.3287 - accuracy: 0.9251\n",
      "Epoch 71/100\n",
      "1229/1229 [==============================] - 5s 4ms/step - loss: 3.4969 - accuracy: 0.9259\n",
      "Epoch 72/100\n",
      "1229/1229 [==============================] - 5s 4ms/step - loss: 3.5867 - accuracy: 0.9242\n",
      "Epoch 73/100\n",
      "1229/1229 [==============================] - 5s 4ms/step - loss: 3.3717 - accuracy: 0.9266\n",
      "Epoch 74/100\n",
      "1229/1229 [==============================] - 6s 5ms/step - loss: 3.6393 - accuracy: 0.9247\n",
      "Epoch 75/100\n",
      "1229/1229 [==============================] - 5s 4ms/step - loss: 3.5942 - accuracy: 0.9249\n",
      "Epoch 76/100\n",
      "1229/1229 [==============================] - 5s 4ms/step - loss: 3.4292 - accuracy: 0.9260\n",
      "Epoch 77/100\n",
      "1229/1229 [==============================] - 5s 4ms/step - loss: 3.4227 - accuracy: 0.9265\n",
      "Epoch 78/100\n",
      "1229/1229 [==============================] - 5s 4ms/step - loss: 3.2324 - accuracy: 0.9278\n",
      "Epoch 79/100\n"
     ]
    },
    {
     "name": "stdout",
     "output_type": "stream",
     "text": [
      "1229/1229 [==============================] - 6s 5ms/step - loss: 3.3649 - accuracy: 0.9269\n",
      "Epoch 80/100\n",
      "1229/1229 [==============================] - 5s 4ms/step - loss: 3.5691 - accuracy: 0.9249\n",
      "Epoch 81/100\n",
      "1229/1229 [==============================] - 5s 4ms/step - loss: 3.2830 - accuracy: 0.9262\n",
      "Epoch 82/100\n",
      "1229/1229 [==============================] - 6s 5ms/step - loss: 3.3587 - accuracy: 0.9263\n",
      "Epoch 83/100\n",
      "1229/1229 [==============================] - 5s 4ms/step - loss: 3.4630 - accuracy: 0.9263\n",
      "Epoch 84/100\n",
      "1229/1229 [==============================] - 5s 4ms/step - loss: 3.4034 - accuracy: 0.9275\n",
      "Epoch 85/100\n",
      "1229/1229 [==============================] - 5s 4ms/step - loss: 3.4411 - accuracy: 0.9256\n",
      "Epoch 86/100\n",
      "1229/1229 [==============================] - 5s 4ms/step - loss: 3.3696 - accuracy: 0.9272\n",
      "Epoch 87/100\n",
      "1229/1229 [==============================] - 5s 4ms/step - loss: 3.1977 - accuracy: 0.9284\n",
      "Epoch 88/100\n",
      "1229/1229 [==============================] - 5s 4ms/step - loss: 3.3187 - accuracy: 0.9279\n",
      "Epoch 89/100\n",
      "1229/1229 [==============================] - 5s 4ms/step - loss: 3.2550 - accuracy: 0.9291\n",
      "Epoch 90/100\n",
      "1229/1229 [==============================] - 6s 5ms/step - loss: 3.2949 - accuracy: 0.9276\n",
      "Epoch 91/100\n",
      "1229/1229 [==============================] - 6s 5ms/step - loss: 3.3603 - accuracy: 0.9273\n",
      "Epoch 92/100\n",
      "1229/1229 [==============================] - 6s 5ms/step - loss: 3.2055 - accuracy: 0.9291\n",
      "Epoch 93/100\n",
      "1229/1229 [==============================] - 6s 5ms/step - loss: 3.3428 - accuracy: 0.9293\n",
      "Epoch 94/100\n",
      "1229/1229 [==============================] - 6s 5ms/step - loss: 3.3891 - accuracy: 0.9264\n",
      "Epoch 95/100\n",
      "1229/1229 [==============================] - 6s 5ms/step - loss: 3.3152 - accuracy: 0.9275\n",
      "Epoch 96/100\n",
      "1229/1229 [==============================] - 6s 5ms/step - loss: 3.1255 - accuracy: 0.9291\n",
      "Epoch 97/100\n",
      "1229/1229 [==============================] - 5s 4ms/step - loss: 3.3203 - accuracy: 0.9270\n",
      "Epoch 98/100\n",
      "1229/1229 [==============================] - 5s 4ms/step - loss: 3.1513 - accuracy: 0.9288\n",
      "Epoch 99/100\n",
      "1229/1229 [==============================] - 5s 4ms/step - loss: 3.1103 - accuracy: 0.9295\n",
      "Epoch 100/100\n",
      "1229/1229 [==============================] - 5s 4ms/step - loss: 3.1421 - accuracy: 0.9295\n"
     ]
    },
    {
     "data": {
      "text/plain": [
       "<keras.callbacks.History at 0x1fc4a955520>"
      ]
     },
     "execution_count": 33,
     "metadata": {},
     "output_type": "execute_result"
    }
   ],
   "source": [
    "model.compile(loss='categorical_crossentropy', optimizer='adam', metrics=['accuracy'])\n",
    "model.fit(train_ds,  batch_size=batch_size, verbose=1, epochs=N_epochs, steps_per_epoch = N_samples/batch_size, class_weight = class_weight)"
   ]
  },
  {
   "cell_type": "code",
   "execution_count": 34,
   "metadata": {
    "id": "L3jy-y5x3pWw",
    "outputId": "aa236016-1033-437d-b1a9-5a3aad04ac90"
   },
   "outputs": [
    {
     "data": {
      "text/plain": [
       "array(['Asphalt_Bump', 'Asphalt_Kurb', 'Asphalt_Manhole', 'Asphalt_Ride',\n",
       "       'Cobblestone_Ride', 'Stop'], dtype=object)"
      ]
     },
     "execution_count": 34,
     "metadata": {},
     "output_type": "execute_result"
    }
   ],
   "source": [
    "encoder.categories_[0]"
   ]
  },
  {
   "cell_type": "code",
   "execution_count": 35,
   "metadata": {
    "id": "3nXAeHMB6hfc",
    "outputId": "3353f6a2-7b8a-42b6-b518-7c5c02331579"
   },
   "outputs": [
    {
     "name": "stdout",
     "output_type": "stream",
     "text": [
      "273/273 [==============================] - 1s 3ms/step\n"
     ]
    },
    {
     "data": {
      "text/plain": [
       "array([[   0,    0,   14,   27,    5,    0],\n",
       "       [   0,    0,    7,   42,   19,    0],\n",
       "       [   0,    2,    7,  243,   43,    0],\n",
       "       [   0,    0,    0, 5522,   96,   39],\n",
       "       [   0,    0,    0,   33, 1028,    3],\n",
       "       [   0,    0,    0,    6,    2, 1574]], dtype=int64)"
      ]
     },
     "execution_count": 35,
     "metadata": {},
     "output_type": "execute_result"
    }
   ],
   "source": [
    "y_pred = model.predict(x_test)\n",
    "y_pred_class = np.argmax(y_pred, axis=1)\n",
    "y_test_class = np.argmax(y_test, axis=1)\n",
    "confusion_matrix(y_test_class, y_pred_class)"
   ]
  },
  {
   "cell_type": "code",
   "execution_count": 36,
   "metadata": {
    "id": "Hbqr9zrn3pWx",
    "outputId": "91a9ab19-5b79-4393-824e-19a15cdcd3f7",
    "scrolled": true
   },
   "outputs": [
    {
     "data": {
      "text/plain": [
       "0.9134353301831762"
      ]
     },
     "execution_count": 36,
     "metadata": {},
     "output_type": "execute_result"
    }
   ],
   "source": [
    "nn_f1_s = f1_score(y_test_class, y_pred_class, average =\"weighted\")\n",
    "nn_f1_s"
   ]
  },
  {
   "cell_type": "code",
   "execution_count": 37,
   "metadata": {
    "id": "SYeadXwY6i78",
    "outputId": "5c28dc0c-0376-4c91-bbc4-f0c2dececca9"
   },
   "outputs": [
    {
     "name": "stdout",
     "output_type": "stream",
     "text": [
      "              precision    recall  f1-score   support\n",
      "\n",
      "           0       0.00      0.00      0.00        46\n",
      "           1       0.00      0.00      0.00        68\n",
      "           2       0.25      0.02      0.04       295\n",
      "           3       0.94      0.98      0.96      5657\n",
      "           4       0.86      0.97      0.91      1064\n",
      "           5       0.97      0.99      0.98      1582\n",
      "\n",
      "    accuracy                           0.93      8712\n",
      "   macro avg       0.50      0.49      0.48      8712\n",
      "weighted avg       0.90      0.93      0.91      8712\n",
      "\n"
     ]
    },
    {
     "name": "stderr",
     "output_type": "stream",
     "text": [
      "C:\\Users\\arockias\\Anaconda3\\lib\\site-packages\\sklearn\\metrics\\_classification.py:1248: UndefinedMetricWarning: Precision and F-score are ill-defined and being set to 0.0 in labels with no predicted samples. Use `zero_division` parameter to control this behavior.\n",
      "  _warn_prf(average, modifier, msg_start, len(result))\n",
      "C:\\Users\\arockias\\Anaconda3\\lib\\site-packages\\sklearn\\metrics\\_classification.py:1248: UndefinedMetricWarning: Precision and F-score are ill-defined and being set to 0.0 in labels with no predicted samples. Use `zero_division` parameter to control this behavior.\n",
      "  _warn_prf(average, modifier, msg_start, len(result))\n",
      "C:\\Users\\arockias\\Anaconda3\\lib\\site-packages\\sklearn\\metrics\\_classification.py:1248: UndefinedMetricWarning: Precision and F-score are ill-defined and being set to 0.0 in labels with no predicted samples. Use `zero_division` parameter to control this behavior.\n",
      "  _warn_prf(average, modifier, msg_start, len(result))\n"
     ]
    }
   ],
   "source": [
    "print(classification_report(y_test_class, y_pred_class))"
   ]
  },
  {
   "cell_type": "code",
   "execution_count": 38,
   "metadata": {},
   "outputs": [
    {
     "name": "stdout",
     "output_type": "stream",
     "text": [
      "INFO:tensorflow:Assets written to: C:\\Users\\arockias\\Desktop\\SmartRadL\\SmartRadL\\Programs\\Machine Learning\\Models\\NN_model\\assets\n"
     ]
    }
   ],
   "source": [
    "model.save(r\"C:\\Users\\arockias\\Desktop\\SmartRadL\\SmartRadL\\Programs\\Machine Learning\\Models\\NN_model\")"
   ]
  }
 ],
 "metadata": {
  "colab": {
   "collapsed_sections": [],
   "name": "NN.ipynb",
   "provenance": []
  },
  "kernelspec": {
   "display_name": "Python 3 (ipykernel)",
   "language": "python",
   "name": "python3"
  },
  "language_info": {
   "codemirror_mode": {
    "name": "ipython",
    "version": 3
   },
   "file_extension": ".py",
   "mimetype": "text/x-python",
   "name": "python",
   "nbconvert_exporter": "python",
   "pygments_lexer": "ipython3",
   "version": "3.9.7"
  }
 },
 "nbformat": 4,
 "nbformat_minor": 1
}
