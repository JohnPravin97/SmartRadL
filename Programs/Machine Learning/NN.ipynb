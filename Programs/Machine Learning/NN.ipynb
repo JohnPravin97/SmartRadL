{
 "cells": [
  {
   "cell_type": "code",
   "execution_count": 13,
   "metadata": {
    "executionInfo": {
     "elapsed": 334,
     "status": "ok",
     "timestamp": 1655808635457,
     "user": {
      "displayName": "John Pravin",
      "userId": "05232052419596426302"
     },
     "user_tz": -120
    },
    "id": "VwbIwPYhYQdr"
   },
   "outputs": [],
   "source": [
    "import tensorflow.keras as keras\n",
    "from sklearn.model_selection import cross_val_score\n",
    "from sklearn.preprocessing import LabelEncoder, OneHotEncoder\n",
    "from sklearn.pipeline import Pipeline\n",
    "from sklearn.model_selection import train_test_split\n",
    "from sklearn.metrics import confusion_matrix, classification_report, f1_score\n",
    "from sklearn.utils import shuffle, class_weight\n",
    "import pandas as pd\n",
    "import numpy as np\n",
    "import tensorflow as tf"
   ]
  },
  {
   "cell_type": "code",
   "execution_count": 14,
   "metadata": {
    "colab": {
     "base_uri": "https://localhost:8080/",
     "height": 328
    },
    "executionInfo": {
     "elapsed": 6,
     "status": "error",
     "timestamp": 1655808635772,
     "user": {
      "displayName": "John Pravin",
      "userId": "05232052419596426302"
     },
     "user_tz": -120
    },
    "id": "JELAe2zx3pWn",
    "outputId": "e8287ef8-8a8b-4cf4-976c-7de40bf76f38"
   },
   "outputs": [],
   "source": [
    "path = r\"Overall_DA_Dataset_with_APR.csv\"\n",
    "df = pd.read_csv(path)"
   ]
  },
  {
   "cell_type": "code",
   "execution_count": 15,
   "metadata": {
    "id": "sv0_ZPiQ3pWo"
   },
   "outputs": [
    {
     "name": "stdout",
     "output_type": "stream",
     "text": [
      "<class 'pandas.core.frame.DataFrame'>\n",
      "RangeIndex: 78711 entries, 0 to 78710\n",
      "Columns: 105 entries, x_mean to Labels\n",
      "dtypes: float64(86), int64(18), object(1)\n",
      "memory usage: 63.1+ MB\n"
     ]
    }
   ],
   "source": [
    "df.info()"
   ]
  },
  {
   "cell_type": "code",
   "execution_count": 16,
   "metadata": {
    "id": "JAxg8cuH3pWq"
   },
   "outputs": [
    {
     "data": {
      "text/plain": [
       "Asphalt_Ride        51189\n",
       "Stop                14193\n",
       "Cobblestone_Ride     9508\n",
       "Asphalt_Manhole      2824\n",
       "Asphalt_Kurb          621\n",
       "Asphalt_Bump          376\n",
       "Name: Labels, dtype: int64"
      ]
     },
     "execution_count": 16,
     "metadata": {},
     "output_type": "execute_result"
    }
   ],
   "source": [
    "df.Labels.value_counts()"
   ]
  },
  {
   "cell_type": "code",
   "execution_count": 17,
   "metadata": {
    "id": "OvlxEPNP3pWq"
   },
   "outputs": [],
   "source": [
    "class_weight = {0: 1.,\n",
    "                1: 3.,\n",
    "                2: 5.,\n",
    "               3: 22.,\n",
    "               4: 80.,\n",
    "               5: 130.,\n",
    "               }"
   ]
  },
  {
   "cell_type": "code",
   "execution_count": 18,
   "metadata": {
    "id": "35itdwSe3pWr"
   },
   "outputs": [],
   "source": [
    "N_train_samples = 70000\n",
    "N_test_samples = 8711\n",
    "N_samples = N_train_samples + N_test_samples\n",
    "N_epochs = 100\n",
    "batch_size = 64\n",
    "learning_rate = 0.01"
   ]
  },
  {
   "cell_type": "code",
   "execution_count": 19,
   "metadata": {
    "id": "ptTKcMWK3pWs"
   },
   "outputs": [],
   "source": [
    "X = df.drop('Labels', axis=1)\n",
    "y = df[\"Labels\"]"
   ]
  },
  {
   "cell_type": "code",
   "execution_count": 20,
   "metadata": {
    "id": "aju_PJsd3pWs"
   },
   "outputs": [],
   "source": [
    "y = np.expand_dims(y, axis=-1)\n",
    "\n",
    "# encode class values as integers\n",
    "encoder = OneHotEncoder()\n",
    "encoder.fit(y)\n",
    "encoded_y = encoder.transform(y)\n",
    "encoded_y = encoded_y.todense()"
   ]
  },
  {
   "cell_type": "code",
   "execution_count": 21,
   "metadata": {
    "id": "9C86d-203pWt"
   },
   "outputs": [],
   "source": [
    "shuffled_x, shuffled_y= shuffle(X, encoded_y)"
   ]
  },
  {
   "cell_type": "code",
   "execution_count": 22,
   "metadata": {
    "id": "NB0BUsAx3pWu",
    "scrolled": true
   },
   "outputs": [],
   "source": [
    "x_train = shuffled_x[0:N_train_samples]\n",
    "y_train = shuffled_y[0:N_train_samples]\n",
    "\n",
    "x_test = shuffled_x[N_train_samples: N_train_samples+N_test_samples]\n",
    "y_test = shuffled_y[N_train_samples: N_train_samples+N_test_samples]"
   ]
  },
  {
   "cell_type": "code",
   "execution_count": 23,
   "metadata": {
    "id": "rKB8qY3u3pWu"
   },
   "outputs": [],
   "source": [
    "train_ds = tf.data.Dataset.from_tensor_slices((x_train, y_train)).batch(batch_size, drop_remainder=True).shuffle(1000).repeat()"
   ]
  },
  {
   "cell_type": "code",
   "execution_count": 24,
   "metadata": {
    "id": "EMkEio8R6s6g"
   },
   "outputs": [],
   "source": [
    "#x_train, x_test, y_train, y_test = train_test_split(X.values, encoded_y, test_size=0.1)"
   ]
  },
  {
   "cell_type": "code",
   "execution_count": 25,
   "metadata": {
    "id": "eAngPwiT5xNm"
   },
   "outputs": [],
   "source": [
    "model = keras.models.Sequential()\n",
    "model.add(keras.layers.Dense(101, activation='relu'))\n",
    "model.add(keras.layers.Dense(64, activation='relu'))\n",
    "model.add(keras.layers.Dropout(0.2))\n",
    "model.add(keras.layers.Dense(64, activation='relu'))\n",
    "model.add(keras.layers.Dropout(0.25))\n",
    "model.add(keras.layers.Dense(32, activation='relu'))\n",
    "model.add(keras.layers.Dropout(0.25))\n",
    "model.add(keras.layers.Dense(6, activation='softmax'))"
   ]
  },
  {
   "cell_type": "code",
   "execution_count": 26,
   "metadata": {
    "id": "KYHoirX9YVsL",
    "outputId": "f774cca5-253e-4fd7-ea4f-993f033d235b",
    "scrolled": true
   },
   "outputs": [
    {
     "name": "stdout",
     "output_type": "stream",
     "text": [
      "Epoch 1/100\n",
      "1229/1229 [==============================] - 3s 2ms/step - loss: 24.5440 - accuracy: 0.7378\n",
      "Epoch 2/100\n",
      "1229/1229 [==============================] - 2s 2ms/step - loss: 11.7158 - accuracy: 0.8347\n",
      "Epoch 3/100\n",
      "1229/1229 [==============================] - 3s 2ms/step - loss: 9.0160 - accuracy: 0.8638\n",
      "Epoch 4/100\n",
      "1229/1229 [==============================] - 3s 2ms/step - loss: 8.2138 - accuracy: 0.8738\n",
      "Epoch 5/100\n",
      "1229/1229 [==============================] - 3s 2ms/step - loss: 7.4782 - accuracy: 0.8829\n",
      "Epoch 6/100\n",
      "1229/1229 [==============================] - 3s 2ms/step - loss: 7.0001 - accuracy: 0.8859\n",
      "Epoch 7/100\n",
      "1229/1229 [==============================] - 3s 2ms/step - loss: 6.6509 - accuracy: 0.8889\n",
      "Epoch 8/100\n",
      "1229/1229 [==============================] - 3s 2ms/step - loss: 6.3732 - accuracy: 0.8909\n",
      "Epoch 9/100\n",
      "1229/1229 [==============================] - 3s 2ms/step - loss: 5.9428 - accuracy: 0.8972\n",
      "Epoch 10/100\n",
      "1229/1229 [==============================] - 3s 2ms/step - loss: 5.8145 - accuracy: 0.8978\n",
      "Epoch 11/100\n",
      "1229/1229 [==============================] - 3s 3ms/step - loss: 5.6153 - accuracy: 0.9000\n",
      "Epoch 12/100\n",
      "1229/1229 [==============================] - 3s 2ms/step - loss: 5.5630 - accuracy: 0.8996\n",
      "Epoch 13/100\n",
      "1229/1229 [==============================] - 3s 2ms/step - loss: 5.6269 - accuracy: 0.9001\n",
      "Epoch 14/100\n",
      "1229/1229 [==============================] - 3s 2ms/step - loss: 5.0762 - accuracy: 0.9059\n",
      "Epoch 15/100\n",
      "1229/1229 [==============================] - 3s 3ms/step - loss: 5.1819 - accuracy: 0.9057\n",
      "Epoch 16/100\n",
      "1229/1229 [==============================] - 3s 2ms/step - loss: 4.9925 - accuracy: 0.9048\n",
      "Epoch 17/100\n",
      "1229/1229 [==============================] - 3s 2ms/step - loss: 4.9465 - accuracy: 0.9073\n",
      "Epoch 18/100\n",
      "1229/1229 [==============================] - 3s 3ms/step - loss: 4.7710 - accuracy: 0.9075\n",
      "Epoch 19/100\n",
      "1229/1229 [==============================] - 3s 2ms/step - loss: 5.0887 - accuracy: 0.9073\n",
      "Epoch 20/100\n",
      "1229/1229 [==============================] - 3s 2ms/step - loss: 4.5260 - accuracy: 0.9124\n",
      "Epoch 21/100\n",
      "1229/1229 [==============================] - 3s 3ms/step - loss: 4.6978 - accuracy: 0.9113\n",
      "Epoch 22/100\n",
      "1229/1229 [==============================] - 3s 3ms/step - loss: 4.5305 - accuracy: 0.9120\n",
      "Epoch 23/100\n",
      "1229/1229 [==============================] - 3s 2ms/step - loss: 4.7706 - accuracy: 0.9113\n",
      "Epoch 24/100\n",
      "1229/1229 [==============================] - 3s 2ms/step - loss: 4.5674 - accuracy: 0.9119\n",
      "Epoch 25/100\n",
      "1229/1229 [==============================] - 3s 3ms/step - loss: 4.6695 - accuracy: 0.9108\n",
      "Epoch 26/100\n",
      "1229/1229 [==============================] - 4s 3ms/step - loss: 4.3971 - accuracy: 0.9136\n",
      "Epoch 27/100\n",
      "1229/1229 [==============================] - 4s 3ms/step - loss: 4.2873 - accuracy: 0.9155\n",
      "Epoch 28/100\n",
      "1229/1229 [==============================] - 3s 2ms/step - loss: 4.5240 - accuracy: 0.9116\n",
      "Epoch 29/100\n",
      "1229/1229 [==============================] - 3s 2ms/step - loss: 4.2607 - accuracy: 0.9162\n",
      "Epoch 30/100\n",
      "1229/1229 [==============================] - 3s 2ms/step - loss: 4.2179 - accuracy: 0.9151\n",
      "Epoch 31/100\n",
      "1229/1229 [==============================] - 3s 2ms/step - loss: 4.2890 - accuracy: 0.9156\n",
      "Epoch 32/100\n",
      "1229/1229 [==============================] - 3s 2ms/step - loss: 4.2148 - accuracy: 0.9166\n",
      "Epoch 33/100\n",
      "1229/1229 [==============================] - 2s 2ms/step - loss: 3.9793 - accuracy: 0.9181\n",
      "Epoch 34/100\n",
      "1229/1229 [==============================] - 3s 2ms/step - loss: 4.1032 - accuracy: 0.9167\n",
      "Epoch 35/100\n",
      "1229/1229 [==============================] - 2s 2ms/step - loss: 4.1054 - accuracy: 0.9159\n",
      "Epoch 36/100\n",
      "1229/1229 [==============================] - 2s 2ms/step - loss: 4.0569 - accuracy: 0.9172\n",
      "Epoch 37/100\n",
      "1229/1229 [==============================] - 2s 2ms/step - loss: 3.9797 - accuracy: 0.9193\n",
      "Epoch 38/100\n",
      "1229/1229 [==============================] - 2s 2ms/step - loss: 4.0421 - accuracy: 0.9175\n",
      "Epoch 39/100\n",
      "1229/1229 [==============================] - 2s 2ms/step - loss: 3.9163 - accuracy: 0.9197\n",
      "Epoch 40/100\n",
      "1229/1229 [==============================] - 2s 2ms/step - loss: 3.8418 - accuracy: 0.9208\n",
      "Epoch 41/100\n",
      "1229/1229 [==============================] - 2s 2ms/step - loss: 4.0695 - accuracy: 0.9174\n",
      "Epoch 42/100\n",
      "1229/1229 [==============================] - 3s 2ms/step - loss: 3.8932 - accuracy: 0.9202\n",
      "Epoch 43/100\n",
      "1229/1229 [==============================] - 3s 3ms/step - loss: 3.7953 - accuracy: 0.9220\n",
      "Epoch 44/100\n",
      "1229/1229 [==============================] - 4s 3ms/step - loss: 3.6807 - accuracy: 0.9210\n",
      "Epoch 45/100\n",
      "1229/1229 [==============================] - 3s 3ms/step - loss: 3.7865 - accuracy: 0.9207\n",
      "Epoch 46/100\n",
      "1229/1229 [==============================] - 3s 2ms/step - loss: 3.8270 - accuracy: 0.9219\n",
      "Epoch 47/100\n",
      "1229/1229 [==============================] - 3s 2ms/step - loss: 3.5635 - accuracy: 0.9237\n",
      "Epoch 48/100\n",
      "1229/1229 [==============================] - 4s 3ms/step - loss: 3.9868 - accuracy: 0.9191\n",
      "Epoch 49/100\n",
      "1229/1229 [==============================] - 3s 2ms/step - loss: 3.7823 - accuracy: 0.9219\n",
      "Epoch 50/100\n",
      "1229/1229 [==============================] - 3s 2ms/step - loss: 3.6065 - accuracy: 0.9231\n",
      "Epoch 51/100\n",
      "1229/1229 [==============================] - 3s 2ms/step - loss: 3.4890 - accuracy: 0.9252\n",
      "Epoch 52/100\n",
      "1229/1229 [==============================] - 3s 2ms/step - loss: 3.5884 - accuracy: 0.9233\n",
      "Epoch 53/100\n",
      "1229/1229 [==============================] - 3s 2ms/step - loss: 3.5989 - accuracy: 0.9241\n",
      "Epoch 54/100\n",
      "1229/1229 [==============================] - 3s 2ms/step - loss: 3.7316 - accuracy: 0.9221\n",
      "Epoch 55/100\n",
      "1229/1229 [==============================] - 3s 3ms/step - loss: 3.6149 - accuracy: 0.9247\n",
      "Epoch 56/100\n",
      "1229/1229 [==============================] - 3s 3ms/step - loss: 3.4357 - accuracy: 0.9250\n",
      "Epoch 57/100\n",
      "1229/1229 [==============================] - 4s 3ms/step - loss: 3.7721 - accuracy: 0.9253\n",
      "Epoch 58/100\n",
      "1229/1229 [==============================] - 3s 3ms/step - loss: 3.3800 - accuracy: 0.9266\n",
      "Epoch 59/100\n",
      "1229/1229 [==============================] - 3s 2ms/step - loss: 3.6162 - accuracy: 0.9235\n",
      "Epoch 60/100\n",
      "1229/1229 [==============================] - 3s 2ms/step - loss: 3.5522 - accuracy: 0.9249\n",
      "Epoch 61/100\n",
      "1229/1229 [==============================] - 3s 2ms/step - loss: 3.3621 - accuracy: 0.9259\n",
      "Epoch 62/100\n",
      "1229/1229 [==============================] - 3s 2ms/step - loss: 3.5260 - accuracy: 0.9258\n",
      "Epoch 63/100\n",
      "1229/1229 [==============================] - 3s 2ms/step - loss: 3.3966 - accuracy: 0.9256\n",
      "Epoch 64/100\n",
      "1229/1229 [==============================] - 3s 2ms/step - loss: 3.4130 - accuracy: 0.9265\n",
      "Epoch 65/100\n",
      "1229/1229 [==============================] - 3s 2ms/step - loss: 3.4844 - accuracy: 0.9256\n",
      "Epoch 66/100\n",
      "1229/1229 [==============================] - 3s 2ms/step - loss: 3.5985 - accuracy: 0.9243\n",
      "Epoch 67/100\n",
      "1229/1229 [==============================] - 2s 2ms/step - loss: 3.3592 - accuracy: 0.9266\n",
      "Epoch 68/100\n",
      "1229/1229 [==============================] - 3s 2ms/step - loss: 3.4469 - accuracy: 0.9252\n",
      "Epoch 69/100\n",
      "1229/1229 [==============================] - 3s 2ms/step - loss: 3.3269 - accuracy: 0.9273\n",
      "Epoch 70/100\n",
      "1229/1229 [==============================] - 3s 2ms/step - loss: 3.4917 - accuracy: 0.9263\n",
      "Epoch 71/100\n",
      "1229/1229 [==============================] - 3s 2ms/step - loss: 3.2485 - accuracy: 0.9276\n",
      "Epoch 72/100\n",
      "1229/1229 [==============================] - 3s 2ms/step - loss: 3.2473 - accuracy: 0.9277\n",
      "Epoch 73/100\n",
      "1229/1229 [==============================] - 3s 2ms/step - loss: 3.3590 - accuracy: 0.9275\n",
      "Epoch 74/100\n",
      "1229/1229 [==============================] - 3s 2ms/step - loss: 3.5309 - accuracy: 0.9244\n",
      "Epoch 75/100\n",
      "1229/1229 [==============================] - 3s 3ms/step - loss: 3.2338 - accuracy: 0.9287\n",
      "Epoch 76/100\n",
      "1229/1229 [==============================] - 3s 2ms/step - loss: 3.3697 - accuracy: 0.9260\n",
      "Epoch 77/100\n",
      "1229/1229 [==============================] - 2s 2ms/step - loss: 3.2855 - accuracy: 0.9274\n",
      "Epoch 78/100\n",
      "1229/1229 [==============================] - 3s 2ms/step - loss: 3.3152 - accuracy: 0.9280\n",
      "Epoch 79/100\n"
     ]
    },
    {
     "name": "stdout",
     "output_type": "stream",
     "text": [
      "1229/1229 [==============================] - 3s 2ms/step - loss: 3.3230 - accuracy: 0.9270\n",
      "Epoch 80/100\n",
      "1229/1229 [==============================] - 3s 2ms/step - loss: 3.1651 - accuracy: 0.9289\n",
      "Epoch 81/100\n",
      "1229/1229 [==============================] - 3s 2ms/step - loss: 3.4494 - accuracy: 0.9263\n",
      "Epoch 82/100\n",
      "1229/1229 [==============================] - 3s 2ms/step - loss: 3.3361 - accuracy: 0.9275\n",
      "Epoch 83/100\n",
      "1229/1229 [==============================] - 3s 2ms/step - loss: 3.1784 - accuracy: 0.9287\n",
      "Epoch 84/100\n",
      "1229/1229 [==============================] - 3s 2ms/step - loss: 3.2231 - accuracy: 0.9276\n",
      "Epoch 85/100\n",
      "1229/1229 [==============================] - 3s 2ms/step - loss: 3.2611 - accuracy: 0.9272\n",
      "Epoch 86/100\n",
      "1229/1229 [==============================] - 3s 2ms/step - loss: 3.2252 - accuracy: 0.9282\n",
      "Epoch 87/100\n",
      "1229/1229 [==============================] - 3s 2ms/step - loss: 3.1784 - accuracy: 0.9286\n",
      "Epoch 88/100\n",
      "1229/1229 [==============================] - 3s 2ms/step - loss: 3.1948 - accuracy: 0.9286\n",
      "Epoch 89/100\n",
      "1229/1229 [==============================] - 3s 2ms/step - loss: 3.1655 - accuracy: 0.9284\n",
      "Epoch 90/100\n",
      "1229/1229 [==============================] - 3s 2ms/step - loss: 3.2848 - accuracy: 0.9272\n",
      "Epoch 91/100\n",
      "1229/1229 [==============================] - 3s 2ms/step - loss: 3.1591 - accuracy: 0.9287\n",
      "Epoch 92/100\n",
      "1229/1229 [==============================] - 3s 2ms/step - loss: 3.1639 - accuracy: 0.9285\n",
      "Epoch 93/100\n",
      "1229/1229 [==============================] - 3s 2ms/step - loss: 3.2536 - accuracy: 0.9284\n",
      "Epoch 94/100\n",
      "1229/1229 [==============================] - 3s 2ms/step - loss: 3.1615 - accuracy: 0.9296\n",
      "Epoch 95/100\n",
      "1229/1229 [==============================] - 3s 2ms/step - loss: 3.0842 - accuracy: 0.9288\n",
      "Epoch 96/100\n",
      "1229/1229 [==============================] - 3s 2ms/step - loss: 3.1260 - accuracy: 0.9301\n",
      "Epoch 97/100\n",
      "1229/1229 [==============================] - 3s 2ms/step - loss: 3.2302 - accuracy: 0.9294\n",
      "Epoch 98/100\n",
      "1229/1229 [==============================] - 3s 2ms/step - loss: 2.9789 - accuracy: 0.9301\n",
      "Epoch 99/100\n",
      "1229/1229 [==============================] - 3s 2ms/step - loss: 3.2645 - accuracy: 0.9281\n",
      "Epoch 100/100\n",
      "1229/1229 [==============================] - 3s 2ms/step - loss: 3.2408 - accuracy: 0.9289\n"
     ]
    },
    {
     "data": {
      "text/plain": [
       "<keras.callbacks.History at 0x271d2fa0730>"
      ]
     },
     "execution_count": 26,
     "metadata": {},
     "output_type": "execute_result"
    }
   ],
   "source": [
    "model.compile(loss='categorical_crossentropy', optimizer='adam', metrics=['accuracy'])\n",
    "model.fit(train_ds,  batch_size=batch_size, verbose=1, epochs=N_epochs, steps_per_epoch = N_samples/batch_size, class_weight = class_weight)"
   ]
  },
  {
   "cell_type": "code",
   "execution_count": 27,
   "metadata": {
    "id": "L3jy-y5x3pWw",
    "outputId": "aa236016-1033-437d-b1a9-5a3aad04ac90"
   },
   "outputs": [
    {
     "data": {
      "text/plain": [
       "array(['Asphalt_Bump', 'Asphalt_Kurb', 'Asphalt_Manhole', 'Asphalt_Ride',\n",
       "       'Cobblestone_Ride', 'Stop'], dtype=object)"
      ]
     },
     "execution_count": 27,
     "metadata": {},
     "output_type": "execute_result"
    }
   ],
   "source": [
    "encoder.categories_[0]"
   ]
  },
  {
   "cell_type": "code",
   "execution_count": 28,
   "metadata": {
    "id": "3nXAeHMB6hfc",
    "outputId": "3353f6a2-7b8a-42b6-b518-7c5c02331579"
   },
   "outputs": [
    {
     "name": "stdout",
     "output_type": "stream",
     "text": [
      "273/273 [==============================] - 1s 1ms/step\n"
     ]
    },
    {
     "data": {
      "text/plain": [
       "array([[   0,    0,   11,   21,    5,    0],\n",
       "       [   1,    2,    8,   35,   26,    0],\n",
       "       [   0,    0,   22,  243,   44,    0],\n",
       "       [   0,    0,    0, 5397,  166,   33],\n",
       "       [   0,    0,    0,   11, 1044,    6],\n",
       "       [   0,    0,    0,    9,    4, 1623]], dtype=int64)"
      ]
     },
     "execution_count": 28,
     "metadata": {},
     "output_type": "execute_result"
    }
   ],
   "source": [
    "y_pred = model.predict(x_test)\n",
    "y_pred_class = np.argmax(y_pred, axis=1)\n",
    "y_test_class = np.argmax(y_test, axis=1)\n",
    "confusion_matrix(y_test_class, y_pred_class)"
   ]
  },
  {
   "cell_type": "code",
   "execution_count": 29,
   "metadata": {
    "id": "Hbqr9zrn3pWx",
    "outputId": "91a9ab19-5b79-4393-824e-19a15cdcd3f7",
    "scrolled": true
   },
   "outputs": [
    {
     "data": {
      "text/plain": [
       "0.9109631375128984"
      ]
     },
     "execution_count": 29,
     "metadata": {},
     "output_type": "execute_result"
    }
   ],
   "source": [
    "nn_f1_s = f1_score(y_test_class, y_pred_class, average =\"weighted\")\n",
    "nn_f1_s"
   ]
  },
  {
   "cell_type": "code",
   "execution_count": 30,
   "metadata": {
    "id": "SYeadXwY6i78",
    "outputId": "5c28dc0c-0376-4c91-bbc4-f0c2dececca9"
   },
   "outputs": [
    {
     "name": "stdout",
     "output_type": "stream",
     "text": [
      "              precision    recall  f1-score   support\n",
      "\n",
      "           0       0.00      0.00      0.00        37\n",
      "           1       1.00      0.03      0.05        72\n",
      "           2       0.54      0.07      0.13       309\n",
      "           3       0.94      0.96      0.95      5596\n",
      "           4       0.81      0.98      0.89      1061\n",
      "           5       0.98      0.99      0.98      1636\n",
      "\n",
      "    accuracy                           0.93      8711\n",
      "   macro avg       0.71      0.51      0.50      8711\n",
      "weighted avg       0.92      0.93      0.91      8711\n",
      "\n"
     ]
    }
   ],
   "source": [
    "print(classification_report(y_test_class, y_pred_class))"
   ]
  },
  {
   "cell_type": "code",
   "execution_count": 31,
   "metadata": {},
   "outputs": [
    {
     "name": "stdout",
     "output_type": "stream",
     "text": [
      "INFO:tensorflow:Assets written to: C:\\Users\\arockias\\Desktop\\SmartRadL\\SmartRadL\\Programs\\Machine Learning\\Models\\NN_model\\assets\n"
     ]
    }
   ],
   "source": [
    "model.save(r\"C:\\Users\\arockias\\Desktop\\SmartRadL\\SmartRadL\\Programs\\Machine Learning\\Models\\NN_model\")"
   ]
  }
 ],
 "metadata": {
  "colab": {
   "collapsed_sections": [],
   "name": "NN.ipynb",
   "provenance": []
  },
  "kernelspec": {
   "display_name": "Python 3 (ipykernel)",
   "language": "python",
   "name": "python3"
  },
  "language_info": {
   "codemirror_mode": {
    "name": "ipython",
    "version": 3
   },
   "file_extension": ".py",
   "mimetype": "text/x-python",
   "name": "python",
   "nbconvert_exporter": "python",
   "pygments_lexer": "ipython3",
   "version": "3.9.7"
  }
 },
 "nbformat": 4,
 "nbformat_minor": 1
}
