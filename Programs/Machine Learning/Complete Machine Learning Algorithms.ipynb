{
 "cells": [
  {
   "cell_type": "markdown",
   "id": "249d6d50",
   "metadata": {},
   "source": [
    "### Library"
   ]
  },
  {
   "cell_type": "code",
   "execution_count": 1,
   "id": "dfa09ce3",
   "metadata": {},
   "outputs": [],
   "source": [
    "import pandas as pd\n",
    "import numpy as np\n",
    "import matplotlib.pyplot as plt\n",
    "import seaborn as sns\n",
    "from sklearn.preprocessing import StandardScaler, LabelEncoder, MinMaxScaler, OneHotEncoder\n",
    "from sklearn.metrics import mean_squared_error, accuracy_score, classification_report, f1_score, roc_auc_score, roc_curve, plot_roc_curve, confusion_matrix\n",
    "from sklearn.model_selection import GridSearchCV, train_test_split, cross_val_score, cross_val_predict, learning_curve\n",
    "from sklearn.neighbors import KNeighborsClassifier\n",
    "from sklearn.linear_model import LogisticRegression\n",
    "from sklearn.svm import SVC\n",
    "from sklearn.utils import shuffle \n",
    "from sklearn.base import TransformerMixin, BaseEstimator\n",
    "from sklearn.preprocessing import FunctionTransformer\n",
    "from sklearn.compose import make_column_transformer\n",
    "from sklearn.tree import DecisionTreeClassifier\n",
    "from sklearn.ensemble import VotingClassifier, RandomForestClassifier, BaggingClassifier\n",
    "from sklearn.pipeline import make_pipeline, FeatureUnion\n",
    "from sklearn.decomposition import PCA\n",
    "from sklearn import tree\n",
    "from matplotlib import pyplot\n",
    "import joblib\n",
    "from xgboost import XGBClassifier\n",
    "from scipy import stats\n",
    "from scipy.signal import find_peaks\n",
    "\n",
    "%matplotlib inline"
   ]
  },
  {
   "cell_type": "code",
   "execution_count": 2,
   "id": "cea5fb4a",
   "metadata": {},
   "outputs": [],
   "source": [
    "path = r\"Overall_DA_Dataset_with_APR.csv\"\n",
    "df = pd.read_csv(path)"
   ]
  },
  {
   "cell_type": "code",
   "execution_count": 3,
   "id": "5c1cd2d2",
   "metadata": {
    "scrolled": true
   },
   "outputs": [
    {
     "name": "stdout",
     "output_type": "stream",
     "text": [
      "<class 'pandas.core.frame.DataFrame'>\n",
      "RangeIndex: 78711 entries, 0 to 78710\n",
      "Columns: 105 entries, x_mean to Labels\n",
      "dtypes: float64(86), int64(18), object(1)\n",
      "memory usage: 63.1+ MB\n"
     ]
    }
   ],
   "source": [
    "df.info()"
   ]
  },
  {
   "cell_type": "code",
   "execution_count": 4,
   "id": "f08ea29c",
   "metadata": {},
   "outputs": [
    {
     "data": {
      "text/plain": [
       "Asphalt_Ride        51189\n",
       "Stop                14193\n",
       "Cobblestone_Ride     9508\n",
       "Asphalt_Manhole      2824\n",
       "Asphalt_Kurb          621\n",
       "Asphalt_Bump          376\n",
       "Name: Labels, dtype: int64"
      ]
     },
     "execution_count": 4,
     "metadata": {},
     "output_type": "execute_result"
    }
   ],
   "source": [
    "df.Labels.value_counts()"
   ]
  },
  {
   "cell_type": "code",
   "execution_count": 5,
   "id": "2a59bb55",
   "metadata": {},
   "outputs": [],
   "source": [
    "X = df.drop('Labels', axis=1)\n",
    "y = df[\"Labels\"]"
   ]
  },
  {
   "cell_type": "code",
   "execution_count": 6,
   "id": "aa0e9465",
   "metadata": {},
   "outputs": [],
   "source": [
    "# to split the available data to train and test\n",
    "def split_train_test(df, y):\n",
    "    X_train, X_test, y_train, y_test = train_test_split(df, y, test_size=0.2, random_state=0)\n",
    "    return X_train, X_test, y_train, y_test \n",
    "\n",
    "\n",
    "# to normalize the columns using standard scaler\n",
    "class standardscaler(TransformerMixin):\n",
    "    def __init__(self):\n",
    "        self.ss=None\n",
    "        self.mean_=None\n",
    "        self.scale_=None\n",
    "    def fit(self, X, y=None):\n",
    "        self.ss=StandardScaler()\n",
    "        self.ss.fit(X)\n",
    "        self.mean_ = pd.Series(self.ss.mean_, index=X.columns)\n",
    "        self.scale_ = pd.Series(self.ss.scale_, index=X.columns)\n",
    "        return self\n",
    "    def transform(self, X):\n",
    "        x=self.ss.transform(X)\n",
    "        numeric=pd.DataFrame(x, columns=X.columns)\n",
    "        return numeric\n",
    "\n",
    "# to normalize the columns using standard scaler\n",
    "class max_minscaler(TransformerMixin):\n",
    "    def __init__(self):\n",
    "        self.mms=None\n",
    "\n",
    "    def fit(self, X, y=None):\n",
    "        self.mms = MinMaxScaler()\n",
    "        self.mms.fit(X)\n",
    "        return self\n",
    "    def transform(self, X):\n",
    "        x=self.mms.transform(X)\n",
    "        numeric=pd.DataFrame(x, columns=X.columns)\n",
    "        return numeric"
   ]
  },
  {
   "cell_type": "code",
   "execution_count": 7,
   "id": "36d6022a",
   "metadata": {},
   "outputs": [],
   "source": [
    "X_train, X_test, y_train, y_test = split_train_test(X, y)"
   ]
  },
  {
   "cell_type": "code",
   "execution_count": 8,
   "id": "a2d1e027",
   "metadata": {},
   "outputs": [
    {
     "name": "stdout",
     "output_type": "stream",
     "text": [
      "<class 'pandas.core.frame.DataFrame'>\n",
      "Int64Index: 62968 entries, 58272 to 68268\n",
      "Columns: 104 entries, x_mean to Speed_(km/hr)\n",
      "dtypes: float64(86), int64(18)\n",
      "memory usage: 50.4 MB\n"
     ]
    }
   ],
   "source": [
    "X_train.info()"
   ]
  },
  {
   "cell_type": "code",
   "execution_count": 9,
   "id": "357842a7",
   "metadata": {},
   "outputs": [],
   "source": [
    "'''\n",
    "mms = max_minscaler()\n",
    "pipeline = make_pipeline(mms)\n",
    "X_train = pipeline.fit_transform(X_train)\n",
    "X_test = pipeline.transform(X_test)\n",
    "'''\n",
    "\n",
    "ss = standardscaler()\n",
    "pipeline = make_pipeline(ss)\n",
    "X_train = pipeline.fit_transform(X_train)\n",
    "X_test = pipeline.transform(X_test)"
   ]
  },
  {
   "cell_type": "code",
   "execution_count": 10,
   "id": "1d914f9c",
   "metadata": {},
   "outputs": [],
   "source": [
    "ss.mean_.to_pickle(r\"C:\\Users\\arockias\\Desktop\\SmartRadL\\SmartRadL\\Programs\\Machine Learning\\Models\\ss_mean.pkl\")\n",
    "ss.scale_.to_pickle(r\"C:\\Users\\arockias\\Desktop\\SmartRadL\\SmartRadL\\Programs\\Machine Learning\\Models\\ss_scale.pkl\")  "
   ]
  },
  {
   "cell_type": "markdown",
   "id": "bb5aa455",
   "metadata": {},
   "source": [
    "### Machine learning Algorithms"
   ]
  },
  {
   "cell_type": "code",
   "execution_count": 11,
   "id": "b75cc66e",
   "metadata": {},
   "outputs": [],
   "source": [
    "class train_machine_learning():\n",
    "    def __init__(self, X_train, X_test, y_train, y_test, save_path):\n",
    "        self.X_train = X_train       \n",
    "        self.X_test = X_test\n",
    "        self.y_train = y_train\n",
    "        self.y_test = y_test\n",
    "        self.save_path = save_path\n",
    "        \n",
    "    def logistic_regression(self, C=100, class_weight = \"balanced\", multi_class= \"ovr\"):\n",
    "        self.lr = LogisticRegression(C=C, class_weight=class_weight, dual=False, fit_intercept=True, intercept_scaling=1, l1_ratio=None, max_iter=100,\n",
    "             multi_class= multi_class, n_jobs=None, penalty='l2', random_state=None, solver='newton-cg', tol=0.0001, verbose=0, warm_start=False)\n",
    "        \n",
    "        self.lr.fit(self.X_train, self.y_train)\n",
    "        filename = self.save_path+\"\\\\\"+'lr_model.pkl'\n",
    "        joblib.dump(self.lr, open(filename, 'wb'))\n",
    "        \n",
    "        lr_train_score = self.lr.score(self.X_train, self.y_train)\n",
    "        lr_test_score = self.lr.score(self.X_test, self.y_test)\n",
    "        lr_pre = self.lr.predict(self.X_test)\n",
    "        lr_f1_s = f1_score(self.y_test, lr_pre, average =\"weighted\")\n",
    "        lr_classification_report = classification_report(self.y_test, lr_pre)\n",
    "        \n",
    "        #return lr_pre\n",
    "        return lr_train_score, lr_test_score, lr_f1_s, lr_classification_report\n",
    "     \n",
    "    def support_vector_machine(self, C=20, class_weight = \"balanced\", decision_function_shape = \"ovo\", kernel = 'rbf'):\n",
    "        self.svc = SVC(C=C, break_ties=False, cache_size=200, class_weight= class_weight, decision_function_shape= decision_function_shape,  gamma='scale', kernel= kernel,max_iter=-1, probability=False, random_state=None, shrinking=True, tol=0.001, verbose=False)\n",
    "        \n",
    "        self.svc.fit(self.X_train, self.y_train)\n",
    "        filename = self.save_path+\"\\\\\"+'svc_model.pkl'\n",
    "        joblib.dump(self.svc, open(filename, 'wb'))\n",
    "        \n",
    "        svc_train_score = self.svc.score(self.X_train, self.y_train)\n",
    "        svc_test_score = self.svc.score(self.X_test, self.y_test)\n",
    "        svc_pre = self.svc.predict(self.X_test)\n",
    "        svc_f1_s = f1_score(self.y_test, svc_pre, average =\"weighted\")\n",
    "        svc_classification_report = classification_report(self.y_test, svc_pre)\n",
    "        \n",
    "        #return svc_pre\n",
    "        return svc_train_score, svc_test_score, svc_f1_s, svc_classification_report\n",
    "    \n",
    "    def decision_tree(self, max_depth = 13, min_samples_leaf = 2, cri = 'gini', class_weight = \"balanced\"):\n",
    "        self.dtc = DecisionTreeClassifier(max_depth = max_depth, criterion = cri, min_samples_split=4, min_samples_leaf= min_samples_leaf, class_weight=class_weight)\n",
    "        \n",
    "        self.dtc.fit(self.X_train, self.y_train)\n",
    "        filename = self.save_path+\"\\\\\"+'dtc_model.pkl'\n",
    "        joblib.dump(self.dtc, open(filename, 'wb'))\n",
    "        \n",
    "        dtc_train_score = self.dtc.score(self.X_train, self.y_train)\n",
    "        dtc_test_score = self.dtc.score(self.X_test, self.y_test)\n",
    "        dtc_pre = self.dtc.predict(self.X_test)\n",
    "        dtc_f1_s = f1_score(self.y_test, dtc_pre, average =\"weighted\")\n",
    "        dtc_classification_report = classification_report(self.y_test, dtc_pre)\n",
    "   \n",
    "        return dtc_train_score, dtc_test_score, dtc_f1_s, self.dtc.feature_importances_,  dtc_classification_report\n",
    "\n",
    "    def XGboost(self, objective=\"multi:softprob\", random_state=42, use_label_encoder=False):\n",
    "        self.xgb = XGBClassifier(objective=objective, random_state= random_state, use_label_encoder= use_label_encoder)\n",
    "        \n",
    "        self.xgb.fit(self.X_train, y_train)\n",
    "        filename = self.save_path+\"\\\\\"+'xgb_model.pkl'\n",
    "        joblib.dump(self.xgb, open(filename, 'wb'))\n",
    "        \n",
    "        xgb_train_score = self.xgb.score(self.X_train, y_train)\n",
    "        xgb_test_score = self.xgb.score(self.X_test, y_test)\n",
    "        xgb_pre = self.xgb.predict(self.X_test)\n",
    "        xgb_f1_s = f1_score(y_test, xgb_pre, average =\"weighted\")\n",
    "   \n",
    "        return xgb_train_score, xgb_test_score, xgb_f1_s, self.xgb.feature_importances_"
   ]
  },
  {
   "cell_type": "code",
   "execution_count": 12,
   "id": "8fc53bb8",
   "metadata": {},
   "outputs": [],
   "source": [
    "ml = train_machine_learning(X_train, X_test, y_train, y_test, save_path = r\"C:\\Users\\arockias\\Desktop\\SmartRadL\\SmartRadL\\Programs\\Machine Learning\\Models\")"
   ]
  },
  {
   "cell_type": "markdown",
   "id": "37517e3f",
   "metadata": {},
   "source": [
    "##### logistic Regression"
   ]
  },
  {
   "cell_type": "code",
   "execution_count": 13,
   "id": "4fba81ac",
   "metadata": {},
   "outputs": [
    {
     "name": "stderr",
     "output_type": "stream",
     "text": [
      "C:\\Users\\arockias\\Anaconda3\\lib\\site-packages\\sklearn\\utils\\optimize.py:202: ConvergenceWarning: newton-cg failed to converge. Increase the number of iterations.\n",
      "  warnings.warn(\"newton-cg failed to converge. Increase the \"\n",
      "C:\\Users\\arockias\\Anaconda3\\lib\\site-packages\\sklearn\\utils\\optimize.py:202: ConvergenceWarning: newton-cg failed to converge. Increase the number of iterations.\n",
      "  warnings.warn(\"newton-cg failed to converge. Increase the \"\n",
      "C:\\Users\\arockias\\Anaconda3\\lib\\site-packages\\sklearn\\utils\\optimize.py:202: ConvergenceWarning: newton-cg failed to converge. Increase the number of iterations.\n",
      "  warnings.warn(\"newton-cg failed to converge. Increase the \"\n",
      "C:\\Users\\arockias\\Anaconda3\\lib\\site-packages\\sklearn\\utils\\optimize.py:202: ConvergenceWarning: newton-cg failed to converge. Increase the number of iterations.\n",
      "  warnings.warn(\"newton-cg failed to converge. Increase the \"\n"
     ]
    }
   ],
   "source": [
    "lr_train_score, lr_test_score, lr_f1_score, lr_classification_report = ml.logistic_regression(C=100, class_weight = \"balanced\", multi_class= \"ovr\")"
   ]
  },
  {
   "cell_type": "code",
   "execution_count": 14,
   "id": "41766a4d",
   "metadata": {},
   "outputs": [
    {
     "data": {
      "text/plain": [
       "(0.8061585859708745, 0.8086768722606873, 0.8215163456424912)"
      ]
     },
     "execution_count": 14,
     "metadata": {},
     "output_type": "execute_result"
    }
   ],
   "source": [
    "lr_train_score, lr_test_score, lr_f1_score"
   ]
  },
  {
   "cell_type": "code",
   "execution_count": 15,
   "id": "2934552e",
   "metadata": {},
   "outputs": [
    {
     "name": "stdout",
     "output_type": "stream",
     "text": [
      "                  precision    recall  f1-score   support\n",
      "\n",
      "    Asphalt_Bump       0.19      0.66      0.29        90\n",
      "    Asphalt_Kurb       0.12      0.24      0.16       102\n",
      " Asphalt_Manhole       0.38      0.53      0.44       547\n",
      "    Asphalt_Ride       0.93      0.82      0.87     10181\n",
      "Cobblestone_Ride       0.51      0.63      0.56      2003\n",
      "            Stop       0.91      0.99      0.95      2820\n",
      "\n",
      "        accuracy                           0.81     15743\n",
      "       macro avg       0.51      0.64      0.55     15743\n",
      "    weighted avg       0.84      0.81      0.82     15743\n",
      "\n"
     ]
    }
   ],
   "source": [
    "print(lr_classification_report)"
   ]
  },
  {
   "cell_type": "markdown",
   "id": "bd525c2b",
   "metadata": {},
   "source": [
    "##### Support Vector Machine"
   ]
  },
  {
   "cell_type": "code",
   "execution_count": 13,
   "id": "7449a739",
   "metadata": {},
   "outputs": [],
   "source": [
    "svc_train_score, svc_test_score, svc_f1_score, svc_classification_report = ml.support_vector_machine(C=2, class_weight = \"balanced\", decision_function_shape = \"ovo\", kernel = 'rbf')"
   ]
  },
  {
   "cell_type": "code",
   "execution_count": 14,
   "id": "854950e2",
   "metadata": {},
   "outputs": [
    {
     "data": {
      "text/plain": [
       "(0.8638355990344302, 0.8221431747443309, 0.8358171448041525)"
      ]
     },
     "execution_count": 14,
     "metadata": {},
     "output_type": "execute_result"
    }
   ],
   "source": [
    "svc_train_score, svc_test_score, svc_f1_score"
   ]
  },
  {
   "cell_type": "code",
   "execution_count": 15,
   "id": "7ab44769",
   "metadata": {},
   "outputs": [
    {
     "name": "stdout",
     "output_type": "stream",
     "text": [
      "                  precision    recall  f1-score   support\n",
      "\n",
      "    Asphalt_Bump       0.31      0.19      0.24        78\n",
      "    Asphalt_Kurb       0.26      0.47      0.33       108\n",
      " Asphalt_Manhole       0.30      0.61      0.40       541\n",
      "    Asphalt_Ride       0.96      0.80      0.88     10217\n",
      "Cobblestone_Ride       0.57      0.78      0.66      1924\n",
      "            Stop       0.88      0.99      0.93      2875\n",
      "\n",
      "        accuracy                           0.82     15743\n",
      "       macro avg       0.55      0.64      0.57     15743\n",
      "    weighted avg       0.87      0.82      0.84     15743\n",
      "\n"
     ]
    }
   ],
   "source": [
    "print(svc_classification_report)"
   ]
  },
  {
   "cell_type": "markdown",
   "id": "1dce5298",
   "metadata": {},
   "source": [
    "##### Decision Tree Classifier"
   ]
  },
  {
   "cell_type": "code",
   "execution_count": 19,
   "id": "0d202f4d",
   "metadata": {},
   "outputs": [],
   "source": [
    "dtc_train_score, dtc_test_score, dtc_f1_score, dtc_importance, dtc_classification_report = ml.decision_tree(max_depth = 13, cri = 'gini', min_samples_leaf = 2, class_weight = \"balanced\")"
   ]
  },
  {
   "cell_type": "code",
   "execution_count": 20,
   "id": "49f06ee6",
   "metadata": {},
   "outputs": [
    {
     "data": {
      "text/plain": [
       "(0.9158633613365307, 0.8916343771835101, 0.9074562782850768)"
      ]
     },
     "execution_count": 20,
     "metadata": {},
     "output_type": "execute_result"
    }
   ],
   "source": [
    "dtc_train_score, dtc_test_score, dtc_f1_score "
   ]
  },
  {
   "cell_type": "code",
   "execution_count": 21,
   "id": "8c17cc7e",
   "metadata": {},
   "outputs": [
    {
     "name": "stdout",
     "output_type": "stream",
     "text": [
      "                  precision    recall  f1-score   support\n",
      "\n",
      "    Asphalt_Bump       0.52      0.66      0.58        90\n",
      "    Asphalt_Kurb       0.30      0.60      0.40       102\n",
      " Asphalt_Manhole       0.28      0.73      0.41       547\n",
      "    Asphalt_Ride       0.97      0.88      0.92     10181\n",
      "Cobblestone_Ride       0.89      0.91      0.90      2003\n",
      "            Stop       0.99      0.99      0.99      2820\n",
      "\n",
      "        accuracy                           0.89     15743\n",
      "       macro avg       0.66      0.79      0.70     15743\n",
      "    weighted avg       0.93      0.89      0.91     15743\n",
      "\n"
     ]
    }
   ],
   "source": [
    "print(dtc_classification_report)"
   ]
  },
  {
   "cell_type": "code",
   "execution_count": 22,
   "id": "91a24081",
   "metadata": {},
   "outputs": [
    {
     "name": "stdout",
     "output_type": "stream",
     "text": [
      "x_mean Feature No: 0, Score: 0.00212\n",
      "x_std Feature No: 1, Score: 0.00000\n",
      "x_aad Feature No: 2, Score: 0.00016\n",
      "x_min Feature No: 3, Score: 0.00440\n",
      "x_max Feature No: 4, Score: 0.00355\n",
      "x_maxmin_diff Feature No: 5, Score: 0.00057\n",
      "x_median Feature No: 6, Score: 0.00163\n",
      "x_mad Feature No: 7, Score: 0.00000\n",
      "x_IQR Feature No: 8, Score: 0.00115\n",
      "x_neg_count Feature No: 9, Score: 0.00178\n",
      "x_pos_count Feature No: 10, Score: 0.00012\n",
      "x_above_mean Feature No: 11, Score: 0.00006\n",
      "x_peak_count Feature No: 12, Score: 0.00022\n",
      "x_skewness Feature No: 13, Score: 0.00005\n",
      "x_kurtosis Feature No: 14, Score: 0.00008\n",
      "x_energy Feature No: 15, Score: 0.01024\n",
      "y_mean Feature No: 16, Score: 0.00476\n",
      "y_std Feature No: 17, Score: 0.00201\n",
      "y_aad Feature No: 18, Score: 0.00049\n",
      "y_min Feature No: 19, Score: 0.00575\n",
      "y_max Feature No: 20, Score: 0.00371\n",
      "y_maxmin_diff Feature No: 21, Score: 0.00163\n",
      "y_median Feature No: 22, Score: 0.00262\n",
      "y_mad Feature No: 23, Score: 0.00011\n",
      "y_IQR Feature No: 24, Score: 0.00075\n",
      "y_neg_count Feature No: 25, Score: 0.00011\n",
      "y_pos_count Feature No: 26, Score: 0.00006\n",
      "y_above_mean Feature No: 27, Score: 0.00000\n",
      "y_peak_count Feature No: 28, Score: 0.00006\n",
      "y_skewness Feature No: 29, Score: 0.00050\n",
      "y_kurtosis Feature No: 30, Score: 0.00000\n",
      "y_energy Feature No: 31, Score: 0.02591\n",
      "z_mean Feature No: 32, Score: 0.00195\n",
      "z_std Feature No: 33, Score: 0.00004\n",
      "z_aad Feature No: 34, Score: 0.00102\n",
      "z_min Feature No: 35, Score: 0.00448\n",
      "z_max Feature No: 36, Score: 0.01556\n",
      "z_maxmin_diff Feature No: 37, Score: 0.00105\n",
      "z_median Feature No: 38, Score: 0.00237\n",
      "z_mad Feature No: 39, Score: 0.00000\n",
      "z_IQR Feature No: 40, Score: 0.00016\n",
      "z_neg_count Feature No: 41, Score: 0.00087\n",
      "z_pos_count Feature No: 42, Score: 0.00008\n",
      "z_above_mean Feature No: 43, Score: 0.00037\n",
      "z_peak_count Feature No: 44, Score: 0.00003\n",
      "z_skewness Feature No: 45, Score: 0.00002\n",
      "z_kurtosis Feature No: 46, Score: 0.00042\n",
      "z_energy Feature No: 47, Score: 0.00872\n",
      "avg_result_accl Feature No: 48, Score: 0.02386\n",
      "sma Feature No: 49, Score: 0.09548\n",
      "x_mean_fft Feature No: 50, Score: 0.00137\n",
      "x_std_fft Feature No: 51, Score: 0.00023\n",
      "x_aad_fft Feature No: 52, Score: 0.00003\n",
      "x_min_fft Feature No: 53, Score: 0.00032\n",
      "x_max_fft Feature No: 54, Score: 0.00000\n",
      "x_maxmin_diff_fft Feature No: 55, Score: 0.00013\n",
      "x_median_fft Feature No: 56, Score: 0.00187\n",
      "x_mad_fft Feature No: 57, Score: 0.00050\n",
      "x_IQR_fft Feature No: 58, Score: 0.00209\n",
      "x_above_mean_fft Feature No: 59, Score: 0.00000\n",
      "x_peak_count_fft Feature No: 60, Score: 0.00013\n",
      "x_skewness_fft Feature No: 61, Score: 0.00014\n",
      "x_kurtosis_fft Feature No: 62, Score: 0.00000\n",
      "x_energy_fft Feature No: 63, Score: 0.00004\n",
      "y_mean_fft Feature No: 64, Score: 0.00048\n",
      "y_std_fft Feature No: 65, Score: 0.00008\n",
      "y_aad_fft Feature No: 66, Score: 0.00007\n",
      "y_min_fft Feature No: 67, Score: 0.00004\n",
      "y_max_fft Feature No: 68, Score: 0.00234\n",
      "y_maxmin_diff_fft Feature No: 69, Score: 0.00029\n",
      "y_median_fft Feature No: 70, Score: 0.00105\n",
      "y_mad_fft Feature No: 71, Score: 0.00032\n",
      "y_IQR_fft Feature No: 72, Score: 0.00222\n",
      "y_above_mean_fft Feature No: 73, Score: 0.00000\n",
      "y_peak_count_fft Feature No: 74, Score: 0.00002\n",
      "y_skewness_fft Feature No: 75, Score: 0.00016\n",
      "y_kurtosis_fft Feature No: 76, Score: 0.00036\n",
      "y_energy_fft Feature No: 77, Score: 0.00006\n",
      "z_mean_fft Feature No: 78, Score: 0.00030\n",
      "z_std_fft Feature No: 79, Score: 0.00198\n",
      "z_aad_fft Feature No: 80, Score: 0.00007\n",
      "z_min_fft Feature No: 81, Score: 0.00026\n",
      "z_max_fft Feature No: 82, Score: 0.00014\n",
      "z_maxmin_diff_fft Feature No: 83, Score: 0.00034\n",
      "z_median_fft Feature No: 84, Score: 0.00229\n",
      "z_mad_fft Feature No: 85, Score: 0.00099\n",
      "z_IQR_fft Feature No: 86, Score: 0.00139\n",
      "z_above_mean_fft Feature No: 87, Score: 0.00060\n",
      "z_peak_count_fft Feature No: 88, Score: 0.00012\n",
      "z_skewness_fft Feature No: 89, Score: 0.00025\n",
      "z_kurtosis_fft Feature No: 90, Score: 0.00028\n",
      "z_energy_fft Feature No: 91, Score: 0.00003\n",
      "avg_result_accl_fft Feature No: 92, Score: 0.00180\n",
      "sma_fft Feature No: 93, Score: 0.00101\n",
      "gFx Feature No: 94, Score: 0.04518\n",
      "gFy Feature No: 95, Score: 0.01197\n",
      "gFz Feature No: 96, Score: 0.01108\n",
      "wx Feature No: 97, Score: 0.01768\n",
      "wy Feature No: 98, Score: 0.00901\n",
      "wz Feature No: 99, Score: 0.00670\n",
      "Azimuth Feature No: 100, Score: 0.22835\n",
      "Pitch Feature No: 101, Score: 0.09804\n",
      "Rolls Feature No: 102, Score: 0.00000\n",
      "Speed_(km/hr) Feature No: 103, Score: 0.31467\n"
     ]
    },
    {
     "data": {
      "image/png": "[encoded data removed]",
      "text/plain": [
       "<Figure size 432x288 with 1 Axes>"
      ]
     },
     "metadata": {
      "needs_background": "light"
     },
     "output_type": "display_data"
    }
   ],
   "source": [
    "for i,v in enumerate(dtc_importance):\n",
    "    print(X.columns[i] + ' Feature No: %i, Score: %.5f' % (i, v))\n",
    "    \n",
    "# plot feature importance\n",
    "pyplot.bar([x for x in range(len(dtc_importance))], dtc_importance)\n",
    "pyplot.show()"
   ]
  }
 ],
 "metadata": {
  "kernelspec": {
   "display_name": "Python 3 (ipykernel)",
   "language": "python",
   "name": "python3"
  },
  "language_info": {
   "codemirror_mode": {
    "name": "ipython",
    "version": 3
   },
   "file_extension": ".py",
   "mimetype": "text/x-python",
   "name": "python",
   "nbconvert_exporter": "python",
   "pygments_lexer": "ipython3",
   "version": "3.9.7"
  }
 },
 "nbformat": 4,
 "nbformat_minor": 5
}
